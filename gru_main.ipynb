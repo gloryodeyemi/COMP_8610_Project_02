{
 "cells": [
  {
   "cell_type": "markdown",
   "id": "63d09792",
   "metadata": {},
   "source": [
    "## Import the needed libraries and dataset"
   ]
  },
  {
   "cell_type": "code",
   "execution_count": 4,
   "id": "f8112a9f",
   "metadata": {
    "colab": {
     "base_uri": "https://localhost:8080/"
    },
    "executionInfo": {
     "elapsed": 14624,
     "status": "ok",
     "timestamp": 1681086891777,
     "user": {
      "displayName": "Glory Odeyemi",
      "userId": "04491820538436953732"
     },
     "user_tz": 240
    },
    "id": "f8112a9f",
    "outputId": "21710d04-ef7e-403e-843f-0940969e19f1"
   },
   "outputs": [
    {
     "name": "stderr",
     "output_type": "stream",
     "text": [
      "[nltk_data] Downloading package stopwords to /root/nltk_data...\n",
      "[nltk_data]   Unzipping corpora/stopwords.zip.\n",
      "[nltk_data] Downloading package wordnet to /root/nltk_data...\n"
     ]
    },
    {
     "name": "stdout",
     "output_type": "stream",
     "text": [
      "Device:  cuda\n"
     ]
    }
   ],
   "source": [
    "import pandas as pd\n",
    "import numpy as np\n",
    "\n",
    "from utils.preprocess import *\n",
    "from utils.GRU import GRU"
   ]
  },
  {
   "cell_type": "code",
   "execution_count": 5,
   "id": "9cc60370",
   "metadata": {
    "executionInfo": {
     "elapsed": 4,
     "status": "ok",
     "timestamp": 1681086891777,
     "user": {
      "displayName": "Glory Odeyemi",
      "userId": "04491820538436953732"
     },
     "user_tz": 240
    },
    "id": "9cc60370"
   },
   "outputs": [],
   "source": [
    "file_loc = \"data/\""
   ]
  },
  {
   "cell_type": "code",
   "execution_count": 6,
   "id": "cc143c40",
   "metadata": {
    "colab": {
     "base_uri": "https://localhost:8080/",
     "height": 206
    },
    "executionInfo": {
     "elapsed": 2487,
     "status": "ok",
     "timestamp": 1681086894261,
     "user": {
      "displayName": "Glory Odeyemi",
      "userId": "04491820538436953732"
     },
     "user_tz": 240
    },
    "id": "cc143c40",
    "outputId": "3f1ae360-debe-4738-97b0-098f274e52e7"
   },
   "outputs": [
    {
     "data": {
      "text/html": [
       "\n",
       "  <div id=\"df-7403c320-a966-4e14-b99b-cbf9e7075766\">\n",
       "    <div class=\"colab-df-container\">\n",
       "      <div>\n",
       "<style scoped>\n",
       "    .dataframe tbody tr th:only-of-type {\n",
       "        vertical-align: middle;\n",
       "    }\n",
       "\n",
       "    .dataframe tbody tr th {\n",
       "        vertical-align: top;\n",
       "    }\n",
       "\n",
       "    .dataframe thead th {\n",
       "        text-align: right;\n",
       "    }\n",
       "</style>\n",
       "<table border=\"1\" class=\"dataframe\">\n",
       "  <thead>\n",
       "    <tr style=\"text-align: right;\">\n",
       "      <th></th>\n",
       "      <th>id</th>\n",
       "      <th>comment_text</th>\n",
       "      <th>toxic</th>\n",
       "      <th>severe_toxic</th>\n",
       "      <th>obscene</th>\n",
       "      <th>threat</th>\n",
       "      <th>insult</th>\n",
       "      <th>identity_hate</th>\n",
       "    </tr>\n",
       "  </thead>\n",
       "  <tbody>\n",
       "    <tr>\n",
       "      <th>0</th>\n",
       "      <td>0000997932d777bf</td>\n",
       "      <td>Explanation\\nWhy the edits made under my usern...</td>\n",
       "      <td>0</td>\n",
       "      <td>0</td>\n",
       "      <td>0</td>\n",
       "      <td>0</td>\n",
       "      <td>0</td>\n",
       "      <td>0</td>\n",
       "    </tr>\n",
       "    <tr>\n",
       "      <th>1</th>\n",
       "      <td>000103f0d9cfb60f</td>\n",
       "      <td>D'aww! He matches this background colour I'm s...</td>\n",
       "      <td>0</td>\n",
       "      <td>0</td>\n",
       "      <td>0</td>\n",
       "      <td>0</td>\n",
       "      <td>0</td>\n",
       "      <td>0</td>\n",
       "    </tr>\n",
       "    <tr>\n",
       "      <th>2</th>\n",
       "      <td>000113f07ec002fd</td>\n",
       "      <td>Hey man, I'm really not trying to edit war. It...</td>\n",
       "      <td>0</td>\n",
       "      <td>0</td>\n",
       "      <td>0</td>\n",
       "      <td>0</td>\n",
       "      <td>0</td>\n",
       "      <td>0</td>\n",
       "    </tr>\n",
       "    <tr>\n",
       "      <th>3</th>\n",
       "      <td>0001b41b1c6bb37e</td>\n",
       "      <td>\"\\nMore\\nI can't make any real suggestions on ...</td>\n",
       "      <td>0</td>\n",
       "      <td>0</td>\n",
       "      <td>0</td>\n",
       "      <td>0</td>\n",
       "      <td>0</td>\n",
       "      <td>0</td>\n",
       "    </tr>\n",
       "    <tr>\n",
       "      <th>4</th>\n",
       "      <td>0001d958c54c6e35</td>\n",
       "      <td>You, sir, are my hero. Any chance you remember...</td>\n",
       "      <td>0</td>\n",
       "      <td>0</td>\n",
       "      <td>0</td>\n",
       "      <td>0</td>\n",
       "      <td>0</td>\n",
       "      <td>0</td>\n",
       "    </tr>\n",
       "  </tbody>\n",
       "</table>\n",
       "</div>\n",
       "      <button class=\"colab-df-convert\" onclick=\"convertToInteractive('df-7403c320-a966-4e14-b99b-cbf9e7075766')\"\n",
       "              title=\"Convert this dataframe to an interactive table.\"\n",
       "              style=\"display:none;\">\n",
       "        \n",
       "  <svg xmlns=\"http://www.w3.org/2000/svg\" height=\"24px\"viewBox=\"0 0 24 24\"\n",
       "       width=\"24px\">\n",
       "    <path d=\"M0 0h24v24H0V0z\" fill=\"none\"/>\n",
       "    <path d=\"M18.56 5.44l.94 2.06.94-2.06 2.06-.94-2.06-.94-.94-2.06-.94 2.06-2.06.94zm-11 1L8.5 8.5l.94-2.06 2.06-.94-2.06-.94L8.5 2.5l-.94 2.06-2.06.94zm10 10l.94 2.06.94-2.06 2.06-.94-2.06-.94-.94-2.06-.94 2.06-2.06.94z\"/><path d=\"M17.41 7.96l-1.37-1.37c-.4-.4-.92-.59-1.43-.59-.52 0-1.04.2-1.43.59L10.3 9.45l-7.72 7.72c-.78.78-.78 2.05 0 2.83L4 21.41c.39.39.9.59 1.41.59.51 0 1.02-.2 1.41-.59l7.78-7.78 2.81-2.81c.8-.78.8-2.07 0-2.86zM5.41 20L4 18.59l7.72-7.72 1.47 1.35L5.41 20z\"/>\n",
       "  </svg>\n",
       "      </button>\n",
       "      \n",
       "  <style>\n",
       "    .colab-df-container {\n",
       "      display:flex;\n",
       "      flex-wrap:wrap;\n",
       "      gap: 12px;\n",
       "    }\n",
       "\n",
       "    .colab-df-convert {\n",
       "      background-color: #E8F0FE;\n",
       "      border: none;\n",
       "      border-radius: 50%;\n",
       "      cursor: pointer;\n",
       "      display: none;\n",
       "      fill: #1967D2;\n",
       "      height: 32px;\n",
       "      padding: 0 0 0 0;\n",
       "      width: 32px;\n",
       "    }\n",
       "\n",
       "    .colab-df-convert:hover {\n",
       "      background-color: #E2EBFA;\n",
       "      box-shadow: 0px 1px 2px rgba(60, 64, 67, 0.3), 0px 1px 3px 1px rgba(60, 64, 67, 0.15);\n",
       "      fill: #174EA6;\n",
       "    }\n",
       "\n",
       "    [theme=dark] .colab-df-convert {\n",
       "      background-color: #3B4455;\n",
       "      fill: #D2E3FC;\n",
       "    }\n",
       "\n",
       "    [theme=dark] .colab-df-convert:hover {\n",
       "      background-color: #434B5C;\n",
       "      box-shadow: 0px 1px 3px 1px rgba(0, 0, 0, 0.15);\n",
       "      filter: drop-shadow(0px 1px 2px rgba(0, 0, 0, 0.3));\n",
       "      fill: #FFFFFF;\n",
       "    }\n",
       "  </style>\n",
       "\n",
       "      <script>\n",
       "        const buttonEl =\n",
       "          document.querySelector('#df-7403c320-a966-4e14-b99b-cbf9e7075766 button.colab-df-convert');\n",
       "        buttonEl.style.display =\n",
       "          google.colab.kernel.accessAllowed ? 'block' : 'none';\n",
       "\n",
       "        async function convertToInteractive(key) {\n",
       "          const element = document.querySelector('#df-7403c320-a966-4e14-b99b-cbf9e7075766');\n",
       "          const dataTable =\n",
       "            await google.colab.kernel.invokeFunction('convertToInteractive',\n",
       "                                                     [key], {});\n",
       "          if (!dataTable) return;\n",
       "\n",
       "          const docLinkHtml = 'Like what you see? Visit the ' +\n",
       "            '<a target=\"_blank\" href=https://colab.research.google.com/notebooks/data_table.ipynb>data table notebook</a>'\n",
       "            + ' to learn more about interactive tables.';\n",
       "          element.innerHTML = '';\n",
       "          dataTable['output_type'] = 'display_data';\n",
       "          await google.colab.output.renderOutput(dataTable, element);\n",
       "          const docLink = document.createElement('div');\n",
       "          docLink.innerHTML = docLinkHtml;\n",
       "          element.appendChild(docLink);\n",
       "        }\n",
       "      </script>\n",
       "    </div>\n",
       "  </div>\n",
       "  "
      ],
      "text/plain": [
       "                 id                                       comment_text  toxic  \\\n",
       "0  0000997932d777bf  Explanation\\nWhy the edits made under my usern...      0   \n",
       "1  000103f0d9cfb60f  D'aww! He matches this background colour I'm s...      0   \n",
       "2  000113f07ec002fd  Hey man, I'm really not trying to edit war. It...      0   \n",
       "3  0001b41b1c6bb37e  \"\\nMore\\nI can't make any real suggestions on ...      0   \n",
       "4  0001d958c54c6e35  You, sir, are my hero. Any chance you remember...      0   \n",
       "\n",
       "   severe_toxic  obscene  threat  insult  identity_hate  \n",
       "0             0        0       0       0              0  \n",
       "1             0        0       0       0              0  \n",
       "2             0        0       0       0              0  \n",
       "3             0        0       0       0              0  \n",
       "4             0        0       0       0              0  "
      ]
     },
     "execution_count": 6,
     "metadata": {},
     "output_type": "execute_result"
    }
   ],
   "source": [
    "train_data = pd.read_csv(file_loc+\"train.csv\")\n",
    "train_data.head()"
   ]
  },
  {
   "cell_type": "code",
   "execution_count": 7,
   "id": "hLH9y6pnTfg6",
   "metadata": {
    "colab": {
     "base_uri": "https://localhost:8080/",
     "height": 206
    },
    "executionInfo": {
     "elapsed": 2128,
     "status": "ok",
     "timestamp": 1681086896388,
     "user": {
      "displayName": "Glory Odeyemi",
      "userId": "04491820538436953732"
     },
     "user_tz": 240
    },
    "id": "hLH9y6pnTfg6",
    "outputId": "10dc3200-b983-4b7f-d2db-bb92ac8875be"
   },
   "outputs": [
    {
     "data": {
      "text/html": [
       "\n",
       "  <div id=\"df-1ee977af-2af9-4415-bb27-cdba0a1c1266\">\n",
       "    <div class=\"colab-df-container\">\n",
       "      <div>\n",
       "<style scoped>\n",
       "    .dataframe tbody tr th:only-of-type {\n",
       "        vertical-align: middle;\n",
       "    }\n",
       "\n",
       "    .dataframe tbody tr th {\n",
       "        vertical-align: top;\n",
       "    }\n",
       "\n",
       "    .dataframe thead th {\n",
       "        text-align: right;\n",
       "    }\n",
       "</style>\n",
       "<table border=\"1\" class=\"dataframe\">\n",
       "  <thead>\n",
       "    <tr style=\"text-align: right;\">\n",
       "      <th></th>\n",
       "      <th>id</th>\n",
       "      <th>comment_text</th>\n",
       "    </tr>\n",
       "  </thead>\n",
       "  <tbody>\n",
       "    <tr>\n",
       "      <th>0</th>\n",
       "      <td>00001cee341fdb12</td>\n",
       "      <td>Yo bitch Ja Rule is more succesful then you'll...</td>\n",
       "    </tr>\n",
       "    <tr>\n",
       "      <th>1</th>\n",
       "      <td>0000247867823ef7</td>\n",
       "      <td>== From RfC == \\n\\n The title is fine as it is...</td>\n",
       "    </tr>\n",
       "    <tr>\n",
       "      <th>2</th>\n",
       "      <td>00013b17ad220c46</td>\n",
       "      <td>\" \\n\\n == Sources == \\n\\n * Zawe Ashton on Lap...</td>\n",
       "    </tr>\n",
       "    <tr>\n",
       "      <th>3</th>\n",
       "      <td>00017563c3f7919a</td>\n",
       "      <td>:If you have a look back at the source, the in...</td>\n",
       "    </tr>\n",
       "    <tr>\n",
       "      <th>4</th>\n",
       "      <td>00017695ad8997eb</td>\n",
       "      <td>I don't anonymously edit articles at all.</td>\n",
       "    </tr>\n",
       "  </tbody>\n",
       "</table>\n",
       "</div>\n",
       "      <button class=\"colab-df-convert\" onclick=\"convertToInteractive('df-1ee977af-2af9-4415-bb27-cdba0a1c1266')\"\n",
       "              title=\"Convert this dataframe to an interactive table.\"\n",
       "              style=\"display:none;\">\n",
       "        \n",
       "  <svg xmlns=\"http://www.w3.org/2000/svg\" height=\"24px\"viewBox=\"0 0 24 24\"\n",
       "       width=\"24px\">\n",
       "    <path d=\"M0 0h24v24H0V0z\" fill=\"none\"/>\n",
       "    <path d=\"M18.56 5.44l.94 2.06.94-2.06 2.06-.94-2.06-.94-.94-2.06-.94 2.06-2.06.94zm-11 1L8.5 8.5l.94-2.06 2.06-.94-2.06-.94L8.5 2.5l-.94 2.06-2.06.94zm10 10l.94 2.06.94-2.06 2.06-.94-2.06-.94-.94-2.06-.94 2.06-2.06.94z\"/><path d=\"M17.41 7.96l-1.37-1.37c-.4-.4-.92-.59-1.43-.59-.52 0-1.04.2-1.43.59L10.3 9.45l-7.72 7.72c-.78.78-.78 2.05 0 2.83L4 21.41c.39.39.9.59 1.41.59.51 0 1.02-.2 1.41-.59l7.78-7.78 2.81-2.81c.8-.78.8-2.07 0-2.86zM5.41 20L4 18.59l7.72-7.72 1.47 1.35L5.41 20z\"/>\n",
       "  </svg>\n",
       "      </button>\n",
       "      \n",
       "  <style>\n",
       "    .colab-df-container {\n",
       "      display:flex;\n",
       "      flex-wrap:wrap;\n",
       "      gap: 12px;\n",
       "    }\n",
       "\n",
       "    .colab-df-convert {\n",
       "      background-color: #E8F0FE;\n",
       "      border: none;\n",
       "      border-radius: 50%;\n",
       "      cursor: pointer;\n",
       "      display: none;\n",
       "      fill: #1967D2;\n",
       "      height: 32px;\n",
       "      padding: 0 0 0 0;\n",
       "      width: 32px;\n",
       "    }\n",
       "\n",
       "    .colab-df-convert:hover {\n",
       "      background-color: #E2EBFA;\n",
       "      box-shadow: 0px 1px 2px rgba(60, 64, 67, 0.3), 0px 1px 3px 1px rgba(60, 64, 67, 0.15);\n",
       "      fill: #174EA6;\n",
       "    }\n",
       "\n",
       "    [theme=dark] .colab-df-convert {\n",
       "      background-color: #3B4455;\n",
       "      fill: #D2E3FC;\n",
       "    }\n",
       "\n",
       "    [theme=dark] .colab-df-convert:hover {\n",
       "      background-color: #434B5C;\n",
       "      box-shadow: 0px 1px 3px 1px rgba(0, 0, 0, 0.15);\n",
       "      filter: drop-shadow(0px 1px 2px rgba(0, 0, 0, 0.3));\n",
       "      fill: #FFFFFF;\n",
       "    }\n",
       "  </style>\n",
       "\n",
       "      <script>\n",
       "        const buttonEl =\n",
       "          document.querySelector('#df-1ee977af-2af9-4415-bb27-cdba0a1c1266 button.colab-df-convert');\n",
       "        buttonEl.style.display =\n",
       "          google.colab.kernel.accessAllowed ? 'block' : 'none';\n",
       "\n",
       "        async function convertToInteractive(key) {\n",
       "          const element = document.querySelector('#df-1ee977af-2af9-4415-bb27-cdba0a1c1266');\n",
       "          const dataTable =\n",
       "            await google.colab.kernel.invokeFunction('convertToInteractive',\n",
       "                                                     [key], {});\n",
       "          if (!dataTable) return;\n",
       "\n",
       "          const docLinkHtml = 'Like what you see? Visit the ' +\n",
       "            '<a target=\"_blank\" href=https://colab.research.google.com/notebooks/data_table.ipynb>data table notebook</a>'\n",
       "            + ' to learn more about interactive tables.';\n",
       "          element.innerHTML = '';\n",
       "          dataTable['output_type'] = 'display_data';\n",
       "          await google.colab.output.renderOutput(dataTable, element);\n",
       "          const docLink = document.createElement('div');\n",
       "          docLink.innerHTML = docLinkHtml;\n",
       "          element.appendChild(docLink);\n",
       "        }\n",
       "      </script>\n",
       "    </div>\n",
       "  </div>\n",
       "  "
      ],
      "text/plain": [
       "                 id                                       comment_text\n",
       "0  00001cee341fdb12  Yo bitch Ja Rule is more succesful then you'll...\n",
       "1  0000247867823ef7  == From RfC == \\n\\n The title is fine as it is...\n",
       "2  00013b17ad220c46  \" \\n\\n == Sources == \\n\\n * Zawe Ashton on Lap...\n",
       "3  00017563c3f7919a  :If you have a look back at the source, the in...\n",
       "4  00017695ad8997eb          I don't anonymously edit articles at all."
      ]
     },
     "execution_count": 7,
     "metadata": {},
     "output_type": "execute_result"
    }
   ],
   "source": [
    "test_data = pd.read_csv(file_loc+\"/test.csv\")\n",
    "test_data.head()"
   ]
  },
  {
   "cell_type": "markdown",
   "id": "83f93090",
   "metadata": {},
   "source": [
    "## Data Preprocessing"
   ]
  },
  {
   "cell_type": "code",
   "execution_count": 8,
   "id": "F8AAzvd3rujm",
   "metadata": {
    "colab": {
     "base_uri": "https://localhost:8080/"
    },
    "executionInfo": {
     "elapsed": 3,
     "status": "ok",
     "timestamp": 1681086896389,
     "user": {
      "displayName": "Glory Odeyemi",
      "userId": "04491820538436953732"
     },
     "user_tz": 240
    },
    "id": "F8AAzvd3rujm",
    "outputId": "9ad02edd-ea96-484d-a11c-bb9427133b7b"
   },
   "outputs": [
    {
     "name": "stdout",
     "output_type": "stream",
     "text": [
      "Before Undersampling\n",
      "--------------------\n",
      "Train data: (159571, 8)\n",
      "Toxic data: (16225, 8)\n",
      "Clean data: (143346, 8)\n",
      "\n",
      "After Undersampling\n",
      "-------------------\n",
      "Balance data: (33225, 8)\n",
      "Balance toxic data: (16225, 8)\n",
      "Balance clean data: (17000, 8)\n"
     ]
    }
   ],
   "source": [
    "# dealing with class imbalance\n",
    "bal_data = balance_class(train_data.copy())"
   ]
  },
  {
   "cell_type": "code",
   "execution_count": 9,
   "id": "9f33ec63",
   "metadata": {
    "colab": {
     "base_uri": "https://localhost:8080/"
    },
    "executionInfo": {
     "elapsed": 3836,
     "status": "ok",
     "timestamp": 1681086900223,
     "user": {
      "displayName": "Glory Odeyemi",
      "userId": "04491820538436953732"
     },
     "user_tz": 240
    },
    "id": "9f33ec63",
    "outputId": "8b190b02-055b-48fa-c9c5-4af9c6acb593"
   },
   "outputs": [
    {
     "name": "stdout",
     "output_type": "stream",
     "text": [
      "-------------\n",
      "Cleaning data\n",
      "-------------\n",
      "Data cleaned!\n"
     ]
    }
   ],
   "source": [
    "# remove symbols, numbers, non-characters, new line, links, stopwords, and html tags\n",
    "clean_data = clean(bal_data.copy())"
   ]
  },
  {
   "cell_type": "code",
   "execution_count": 10,
   "id": "Qsi1dEOVwykw",
   "metadata": {
    "colab": {
     "base_uri": "https://localhost:8080/"
    },
    "executionInfo": {
     "elapsed": 20,
     "status": "ok",
     "timestamp": 1681086900223,
     "user": {
      "displayName": "Glory Odeyemi",
      "userId": "04491820538436953732"
     },
     "user_tz": 240
    },
    "id": "Qsi1dEOVwykw",
    "outputId": "17762828-ee58-4213-af0f-751ce8934570"
   },
   "outputs": [
    {
     "name": "stdout",
     "output_type": "stream",
     "text": [
      "Original sample comment:\n",
      "------------------------\n",
      "Yup! Of course I'm blocked! Because you bot assholes can't take the fact that you have no lives. You spend every minute of your life editing WP, and for what?! Organization? More like ORDER.\n",
      "\n",
      "Clean sample comment:\n",
      "---------------------\n",
      "yup of course i'm blocked because bot assholes can't take fact lives you spend every minute life editing wp organization more like order\n"
     ]
    }
   ],
   "source": [
    "text, label = generate_random(clean_data, 'comment_text', 3)\n",
    "print(f\"Original sample comment:\\n------------------------\\n{text}\")\n",
    "print()\n",
    "text, label = generate_random(clean_data, 'clean', 3)\n",
    "print(f\"Clean sample comment:\\n---------------------\\n{text}\")"
   ]
  },
  {
   "cell_type": "code",
   "execution_count": 11,
   "id": "ac0f4ab7",
   "metadata": {
    "colab": {
     "base_uri": "https://localhost:8080/"
    },
    "executionInfo": {
     "elapsed": 3330,
     "status": "ok",
     "timestamp": 1681086903536,
     "user": {
      "displayName": "Glory Odeyemi",
      "userId": "04491820538436953732"
     },
     "user_tz": 240
    },
    "id": "ac0f4ab7",
    "outputId": "23fa5a13-8993-453c-b1f6-db4baadc23ba"
   },
   "outputs": [
    {
     "name": "stdout",
     "output_type": "stream",
     "text": [
      "------------------\n",
      "Decontracting text\n",
      "------------------\n",
      "Texts decontracted!\n"
     ]
    }
   ],
   "source": [
    "# remove contractions in text\n",
    "clean_data = decontract(clean_data)"
   ]
  },
  {
   "cell_type": "code",
   "execution_count": 12,
   "id": "NPdxWFukzFh9",
   "metadata": {
    "colab": {
     "base_uri": "https://localhost:8080/"
    },
    "executionInfo": {
     "elapsed": 7,
     "status": "ok",
     "timestamp": 1681086903536,
     "user": {
      "displayName": "Glory Odeyemi",
      "userId": "04491820538436953732"
     },
     "user_tz": 240
    },
    "id": "NPdxWFukzFh9",
    "outputId": "8c373d52-a9d7-4414-be93-628fc8435d8b"
   },
   "outputs": [
    {
     "name": "stdout",
     "output_type": "stream",
     "text": [
      "Clean sample comment:\n",
      "---------------------\n",
      "yup of course i'm blocked because bot assholes can't take fact lives you spend every minute life editing wp organization more like order\n",
      "\n",
      "Decontracted sample comment:\n",
      "----------------------------\n",
      "yup of course i am blocked because bot assholes cannot take fact lives you spend every minute life editing wp organization more like order\n"
     ]
    }
   ],
   "source": [
    "text, label = generate_random(clean_data, 'clean', 3)\n",
    "print(f\"Clean sample comment:\\n---------------------\\n{text}\")\n",
    "print()\n",
    "text, label = generate_random(clean_data, 'decontracted', 3)\n",
    "print(f\"Decontracted sample comment:\\n----------------------------\\n{text}\")"
   ]
  },
  {
   "cell_type": "code",
   "execution_count": 13,
   "id": "0d218cc7",
   "metadata": {
    "colab": {
     "base_uri": "https://localhost:8080/"
    },
    "executionInfo": {
     "elapsed": 15211,
     "status": "ok",
     "timestamp": 1681086918743,
     "user": {
      "displayName": "Glory Odeyemi",
      "userId": "04491820538436953732"
     },
     "user_tz": 240
    },
    "id": "0d218cc7",
    "outputId": "f7fa103c-6fc9-4a10-97c2-10c095302e6d"
   },
   "outputs": [
    {
     "name": "stdout",
     "output_type": "stream",
     "text": [
      "----------------\n",
      "Lemmatizing text\n",
      "----------------\n",
      "Text lemmatized!\n"
     ]
    }
   ],
   "source": [
    "# lemmatize words in text\n",
    "clean_data = lemmatize(clean_data)"
   ]
  },
  {
   "cell_type": "code",
   "execution_count": 14,
   "id": "-RBqALTszVcc",
   "metadata": {
    "colab": {
     "base_uri": "https://localhost:8080/"
    },
    "executionInfo": {
     "elapsed": 14,
     "status": "ok",
     "timestamp": 1681086918743,
     "user": {
      "displayName": "Glory Odeyemi",
      "userId": "04491820538436953732"
     },
     "user_tz": 240
    },
    "id": "-RBqALTszVcc",
    "outputId": "05f3bb19-74d4-451d-841b-69de15007d08"
   },
   "outputs": [
    {
     "name": "stdout",
     "output_type": "stream",
     "text": [
      "Decontracted sample comment:\n",
      "----------------------------\n",
      "yup of course i am blocked because bot assholes cannot take fact lives you spend every minute life editing wp organization more like order\n",
      "\n",
      "Lemmatized sample comment:\n",
      "--------------------------\n",
      " yup of course i be block because bot asshole cannot take fact life you spend every minute life edit wp organization more like order\n"
     ]
    }
   ],
   "source": [
    "text, label = generate_random(clean_data, 'decontracted', 3)\n",
    "print(f\"Decontracted sample comment:\\n----------------------------\\n{text}\")\n",
    "print()\n",
    "text, label = generate_random(clean_data, 'lemmatized', 3)\n",
    "print(f\"Lemmatized sample comment:\\n--------------------------\\n{text}\")"
   ]
  },
  {
   "cell_type": "code",
   "execution_count": 15,
   "id": "20edf334",
   "metadata": {
    "colab": {
     "base_uri": "https://localhost:8080/"
    },
    "executionInfo": {
     "elapsed": 13,
     "status": "ok",
     "timestamp": 1681086918743,
     "user": {
      "displayName": "Glory Odeyemi",
      "userId": "04491820538436953732"
     },
     "user_tz": 240
    },
    "id": "20edf334",
    "outputId": "0f979c46-0d4a-40db-a23f-a1369bd3a478"
   },
   "outputs": [
    {
     "name": "stdout",
     "output_type": "stream",
     "text": [
      "------------------\n",
      "Splitting the data\n",
      "------------------\n",
      "Splitting done!\n"
     ]
    },
    {
     "data": {
      "text/plain": [
       "((26580,), (6645,), (26580, 6), (6645, 6))"
      ]
     },
     "execution_count": 15,
     "metadata": {},
     "output_type": "execute_result"
    }
   ],
   "source": [
    "# split the train data into 80% train and 20% validation\n",
    "X_train, X_val, y_train, y_val = split_data(clean_data)\n",
    "X_train.shape, X_val.shape, y_train.shape, y_val.shape"
   ]
  },
  {
   "cell_type": "code",
   "execution_count": 16,
   "id": "b744a893",
   "metadata": {
    "executionInfo": {
     "elapsed": 11,
     "status": "ok",
     "timestamp": 1681086918743,
     "user": {
      "displayName": "Glory Odeyemi",
      "userId": "04491820538436953732"
     },
     "user_tz": 240
    },
    "id": "b744a893"
   },
   "outputs": [],
   "source": [
    "# create an instance of the GRU class\n",
    "gru = GRU()"
   ]
  },
  {
   "cell_type": "code",
   "execution_count": 17,
   "id": "9607fd96",
   "metadata": {
    "colab": {
     "base_uri": "https://localhost:8080/"
    },
    "executionInfo": {
     "elapsed": 10561,
     "status": "ok",
     "timestamp": 1681086929293,
     "user": {
      "displayName": "Glory Odeyemi",
      "userId": "04491820538436953732"
     },
     "user_tz": 240
    },
    "id": "9607fd96",
    "outputId": "6ce2ad89-2c20-4314-9ffe-d74105beec5b"
   },
   "outputs": [
    {
     "data": {
      "text/plain": [
       "((26580, 200), (153164, 200), (6645, 200))"
      ]
     },
     "execution_count": 17,
     "metadata": {},
     "output_type": "execute_result"
    }
   ],
   "source": [
    "# tokenize the data\n",
    "X_test = test_data['comment_text'].to_numpy().reshape(-1,)\n",
    "X = clean_data[\"lemmatized\"].to_numpy().reshape(-1,)\n",
    "\n",
    "train_pad, val_pad, test_pad = gru.tokenize(X, X_train, X_test, X_val)\n",
    "train_pad.shape, test_pad.shape, val_pad.shape"
   ]
  },
  {
   "cell_type": "markdown",
   "id": "5f3a36b3",
   "metadata": {},
   "source": [
    "## Toxic comment classification using GRU"
   ]
  },
  {
   "cell_type": "code",
   "execution_count": 18,
   "id": "6de4c4be",
   "metadata": {
    "colab": {
     "base_uri": "https://localhost:8080/"
    },
    "executionInfo": {
     "elapsed": 3459,
     "status": "ok",
     "timestamp": 1681086932734,
     "user": {
      "displayName": "Glory Odeyemi",
      "userId": "04491820538436953732"
     },
     "user_tz": 240
    },
    "id": "6de4c4be",
    "outputId": "1af1ca4c-0450-45b8-eb69-a6cda6fb5b93"
   },
   "outputs": [
    {
     "name": "stdout",
     "output_type": "stream",
     "text": [
      "Building the GRU model...\n",
      "-------------------------\n",
      "Model: \"sequential\"\n",
      "_________________________________________________________________\n",
      " Layer (type)                Output Shape              Param #   \n",
      "=================================================================\n",
      " embedding (Embedding)       (None, 200, 50)           100000    \n",
      "                                                                 \n",
      " gru (GRU)                   (None, 64)                22272     \n",
      "                                                                 \n",
      " dense (Dense)               (None, 256)               16640     \n",
      "                                                                 \n",
      " dense_1 (Dense)             (None, 6)                 1542      \n",
      "                                                                 \n",
      "=================================================================\n",
      "Total params: 140,454\n",
      "Trainable params: 140,454\n",
      "Non-trainable params: 0\n",
      "_________________________________________________________________\n",
      "Done!\n"
     ]
    }
   ],
   "source": [
    "model = gru.build_model()"
   ]
  },
  {
   "cell_type": "code",
   "execution_count": 19,
   "id": "2b966b34",
   "metadata": {
    "colab": {
     "base_uri": "https://localhost:8080/"
    },
    "executionInfo": {
     "elapsed": 8,
     "status": "ok",
     "timestamp": 1681086932735,
     "user": {
      "displayName": "Glory Odeyemi",
      "userId": "04491820538436953732"
     },
     "user_tz": 240
    },
    "id": "2b966b34",
    "outputId": "032d95ee-cada-4ce2-858c-0599cc379180"
   },
   "outputs": [
    {
     "name": "stdout",
     "output_type": "stream",
     "text": [
      "Compiling the GRU model...\n",
      "--------------------------\n",
      "Model compiled!\n"
     ]
    }
   ],
   "source": [
    "model = gru.compile_model(model)"
   ]
  },
  {
   "cell_type": "code",
   "execution_count": 20,
   "id": "0265d3bd",
   "metadata": {
    "colab": {
     "base_uri": "https://localhost:8080/"
    },
    "executionInfo": {
     "elapsed": 44590,
     "status": "ok",
     "timestamp": 1681086977321,
     "user": {
      "displayName": "Glory Odeyemi",
      "userId": "04491820538436953732"
     },
     "user_tz": 240
    },
    "id": "0265d3bd",
    "outputId": "d55da225-9eb7-43a4-dadf-5409f05b8405"
   },
   "outputs": [
    {
     "name": "stdout",
     "output_type": "stream",
     "text": [
      "Training the model\n",
      "------------------\n",
      "Epoch 1/10\n",
      "52/52 [==============================] - 18s 166ms/step - loss: 0.4561 - accuracy: 0.9296 - precision: 0.1916 - recall: 0.0140 - auc: 0.6851 - val_loss: 0.3629 - val_accuracy: 0.9710 - val_precision: 1.0000 - val_recall: 4.2918e-04 - val_auc: 0.8397\n",
      "Epoch 2/10\n",
      "52/52 [==============================] - 5s 106ms/step - loss: 0.3359 - accuracy: 0.9710 - precision: 0.9024 - recall: 0.1033 - auc: 0.8633 - val_loss: 0.3202 - val_accuracy: 0.9695 - val_precision: 0.7554 - val_recall: 0.5514 - val_auc: 0.9073\n",
      "Epoch 3/10\n",
      "52/52 [==============================] - 5s 104ms/step - loss: 0.2650 - accuracy: 0.9720 - precision: 0.8072 - recall: 0.5109 - auc: 0.9168 - val_loss: 0.2322 - val_accuracy: 0.9710 - val_precision: 0.8578 - val_recall: 0.5515 - val_auc: 0.9355\n",
      "Epoch 4/10\n",
      "52/52 [==============================] - 4s 73ms/step - loss: 0.2283 - accuracy: 0.9722 - precision: 0.7975 - recall: 0.6387 - auc: 0.9353 - val_loss: 0.2302 - val_accuracy: 0.9710 - val_precision: 0.7241 - val_recall: 0.7558 - val_auc: 0.9408\n",
      "Epoch 5/10\n",
      "52/52 [==============================] - 2s 36ms/step - loss: 0.2170 - accuracy: 0.9722 - precision: 0.7997 - recall: 0.6720 - auc: 0.9417 - val_loss: 0.2094 - val_accuracy: 0.9708 - val_precision: 0.8474 - val_recall: 0.6413 - val_auc: 0.9466\n",
      "Epoch 6/10\n",
      "52/52 [==============================] - 2s 29ms/step - loss: 0.2084 - accuracy: 0.9722 - precision: 0.8099 - recall: 0.6891 - auc: 0.9467 - val_loss: 0.2026 - val_accuracy: 0.9708 - val_precision: 0.8255 - val_recall: 0.6950 - val_auc: 0.9493\n",
      "Epoch 7/10\n",
      "52/52 [==============================] - 1s 26ms/step - loss: 0.2031 - accuracy: 0.9722 - precision: 0.8104 - recall: 0.7041 - auc: 0.9499 - val_loss: 0.2004 - val_accuracy: 0.9708 - val_precision: 0.8331 - val_recall: 0.6918 - val_auc: 0.9509\n",
      "Epoch 8/10\n",
      "52/52 [==============================] - 2s 32ms/step - loss: 0.1993 - accuracy: 0.9722 - precision: 0.8153 - recall: 0.7118 - auc: 0.9521 - val_loss: 0.2012 - val_accuracy: 0.9708 - val_precision: 0.7922 - val_recall: 0.7516 - val_auc: 0.9520\n",
      "Epoch 9/10\n",
      "52/52 [==============================] - 2s 36ms/step - loss: 0.1953 - accuracy: 0.9722 - precision: 0.8184 - recall: 0.7193 - auc: 0.9543 - val_loss: 0.1996 - val_accuracy: 0.9708 - val_precision: 0.8001 - val_recall: 0.7369 - val_auc: 0.9525\n",
      "Epoch 10/10\n",
      "52/52 [==============================] - 1s 23ms/step - loss: 0.1932 - accuracy: 0.9715 - precision: 0.8206 - recall: 0.7217 - auc: 0.9555 - val_loss: 0.1978 - val_accuracy: 0.9705 - val_precision: 0.7975 - val_recall: 0.7486 - val_auc: 0.9534\n"
     ]
    }
   ],
   "source": [
    "history = gru.train_model(model, train_pad, y_train, val_pad, y_val)"
   ]
  },
  {
   "cell_type": "code",
   "execution_count": 21,
   "id": "f70d4323",
   "metadata": {
    "colab": {
     "base_uri": "https://localhost:8080/",
     "height": 206
    },
    "executionInfo": {
     "elapsed": 21,
     "status": "ok",
     "timestamp": 1681086977322,
     "user": {
      "displayName": "Glory Odeyemi",
      "userId": "04491820538436953732"
     },
     "user_tz": 240
    },
    "id": "f70d4323",
    "outputId": "ebb84e6f-4b71-4d61-d033-8f6f5a0c8080"
   },
   "outputs": [
    {
     "data": {
      "text/html": [
       "\n",
       "  <div id=\"df-6ebecdb1-5053-486c-a988-d45feae7e4d7\">\n",
       "    <div class=\"colab-df-container\">\n",
       "      <div>\n",
       "<style scoped>\n",
       "    .dataframe tbody tr th:only-of-type {\n",
       "        vertical-align: middle;\n",
       "    }\n",
       "\n",
       "    .dataframe tbody tr th {\n",
       "        vertical-align: top;\n",
       "    }\n",
       "\n",
       "    .dataframe thead th {\n",
       "        text-align: right;\n",
       "    }\n",
       "</style>\n",
       "<table border=\"1\" class=\"dataframe\">\n",
       "  <thead>\n",
       "    <tr style=\"text-align: right;\">\n",
       "      <th></th>\n",
       "      <th>loss</th>\n",
       "      <th>accuracy</th>\n",
       "      <th>precision</th>\n",
       "      <th>recall</th>\n",
       "      <th>auc</th>\n",
       "      <th>val_loss</th>\n",
       "      <th>val_accuracy</th>\n",
       "      <th>val_precision</th>\n",
       "      <th>val_recall</th>\n",
       "      <th>val_auc</th>\n",
       "    </tr>\n",
       "  </thead>\n",
       "  <tbody>\n",
       "    <tr>\n",
       "      <th>0</th>\n",
       "      <td>0.456139</td>\n",
       "      <td>0.929571</td>\n",
       "      <td>0.191614</td>\n",
       "      <td>0.013982</td>\n",
       "      <td>0.685086</td>\n",
       "      <td>0.362908</td>\n",
       "      <td>0.970956</td>\n",
       "      <td>1.000000</td>\n",
       "      <td>0.000429</td>\n",
       "      <td>0.839669</td>\n",
       "    </tr>\n",
       "    <tr>\n",
       "      <th>1</th>\n",
       "      <td>0.335949</td>\n",
       "      <td>0.970993</td>\n",
       "      <td>0.902424</td>\n",
       "      <td>0.103316</td>\n",
       "      <td>0.863254</td>\n",
       "      <td>0.320160</td>\n",
       "      <td>0.969451</td>\n",
       "      <td>0.755390</td>\n",
       "      <td>0.551359</td>\n",
       "      <td>0.907324</td>\n",
       "    </tr>\n",
       "    <tr>\n",
       "      <th>2</th>\n",
       "      <td>0.264978</td>\n",
       "      <td>0.972047</td>\n",
       "      <td>0.807160</td>\n",
       "      <td>0.510922</td>\n",
       "      <td>0.916809</td>\n",
       "      <td>0.232172</td>\n",
       "      <td>0.970956</td>\n",
       "      <td>0.857810</td>\n",
       "      <td>0.551502</td>\n",
       "      <td>0.935517</td>\n",
       "    </tr>\n",
       "    <tr>\n",
       "      <th>3</th>\n",
       "      <td>0.228292</td>\n",
       "      <td>0.972235</td>\n",
       "      <td>0.797548</td>\n",
       "      <td>0.638679</td>\n",
       "      <td>0.935273</td>\n",
       "      <td>0.230220</td>\n",
       "      <td>0.970956</td>\n",
       "      <td>0.724095</td>\n",
       "      <td>0.755794</td>\n",
       "      <td>0.940845</td>\n",
       "    </tr>\n",
       "    <tr>\n",
       "      <th>4</th>\n",
       "      <td>0.217016</td>\n",
       "      <td>0.972235</td>\n",
       "      <td>0.799738</td>\n",
       "      <td>0.672015</td>\n",
       "      <td>0.941714</td>\n",
       "      <td>0.209430</td>\n",
       "      <td>0.970805</td>\n",
       "      <td>0.847448</td>\n",
       "      <td>0.641345</td>\n",
       "      <td>0.946617</td>\n",
       "    </tr>\n",
       "  </tbody>\n",
       "</table>\n",
       "</div>\n",
       "      <button class=\"colab-df-convert\" onclick=\"convertToInteractive('df-6ebecdb1-5053-486c-a988-d45feae7e4d7')\"\n",
       "              title=\"Convert this dataframe to an interactive table.\"\n",
       "              style=\"display:none;\">\n",
       "        \n",
       "  <svg xmlns=\"http://www.w3.org/2000/svg\" height=\"24px\"viewBox=\"0 0 24 24\"\n",
       "       width=\"24px\">\n",
       "    <path d=\"M0 0h24v24H0V0z\" fill=\"none\"/>\n",
       "    <path d=\"M18.56 5.44l.94 2.06.94-2.06 2.06-.94-2.06-.94-.94-2.06-.94 2.06-2.06.94zm-11 1L8.5 8.5l.94-2.06 2.06-.94-2.06-.94L8.5 2.5l-.94 2.06-2.06.94zm10 10l.94 2.06.94-2.06 2.06-.94-2.06-.94-.94-2.06-.94 2.06-2.06.94z\"/><path d=\"M17.41 7.96l-1.37-1.37c-.4-.4-.92-.59-1.43-.59-.52 0-1.04.2-1.43.59L10.3 9.45l-7.72 7.72c-.78.78-.78 2.05 0 2.83L4 21.41c.39.39.9.59 1.41.59.51 0 1.02-.2 1.41-.59l7.78-7.78 2.81-2.81c.8-.78.8-2.07 0-2.86zM5.41 20L4 18.59l7.72-7.72 1.47 1.35L5.41 20z\"/>\n",
       "  </svg>\n",
       "      </button>\n",
       "      \n",
       "  <style>\n",
       "    .colab-df-container {\n",
       "      display:flex;\n",
       "      flex-wrap:wrap;\n",
       "      gap: 12px;\n",
       "    }\n",
       "\n",
       "    .colab-df-convert {\n",
       "      background-color: #E8F0FE;\n",
       "      border: none;\n",
       "      border-radius: 50%;\n",
       "      cursor: pointer;\n",
       "      display: none;\n",
       "      fill: #1967D2;\n",
       "      height: 32px;\n",
       "      padding: 0 0 0 0;\n",
       "      width: 32px;\n",
       "    }\n",
       "\n",
       "    .colab-df-convert:hover {\n",
       "      background-color: #E2EBFA;\n",
       "      box-shadow: 0px 1px 2px rgba(60, 64, 67, 0.3), 0px 1px 3px 1px rgba(60, 64, 67, 0.15);\n",
       "      fill: #174EA6;\n",
       "    }\n",
       "\n",
       "    [theme=dark] .colab-df-convert {\n",
       "      background-color: #3B4455;\n",
       "      fill: #D2E3FC;\n",
       "    }\n",
       "\n",
       "    [theme=dark] .colab-df-convert:hover {\n",
       "      background-color: #434B5C;\n",
       "      box-shadow: 0px 1px 3px 1px rgba(0, 0, 0, 0.15);\n",
       "      filter: drop-shadow(0px 1px 2px rgba(0, 0, 0, 0.3));\n",
       "      fill: #FFFFFF;\n",
       "    }\n",
       "  </style>\n",
       "\n",
       "      <script>\n",
       "        const buttonEl =\n",
       "          document.querySelector('#df-6ebecdb1-5053-486c-a988-d45feae7e4d7 button.colab-df-convert');\n",
       "        buttonEl.style.display =\n",
       "          google.colab.kernel.accessAllowed ? 'block' : 'none';\n",
       "\n",
       "        async function convertToInteractive(key) {\n",
       "          const element = document.querySelector('#df-6ebecdb1-5053-486c-a988-d45feae7e4d7');\n",
       "          const dataTable =\n",
       "            await google.colab.kernel.invokeFunction('convertToInteractive',\n",
       "                                                     [key], {});\n",
       "          if (!dataTable) return;\n",
       "\n",
       "          const docLinkHtml = 'Like what you see? Visit the ' +\n",
       "            '<a target=\"_blank\" href=https://colab.research.google.com/notebooks/data_table.ipynb>data table notebook</a>'\n",
       "            + ' to learn more about interactive tables.';\n",
       "          element.innerHTML = '';\n",
       "          dataTable['output_type'] = 'display_data';\n",
       "          await google.colab.output.renderOutput(dataTable, element);\n",
       "          const docLink = document.createElement('div');\n",
       "          docLink.innerHTML = docLinkHtml;\n",
       "          element.appendChild(docLink);\n",
       "        }\n",
       "      </script>\n",
       "    </div>\n",
       "  </div>\n",
       "  "
      ],
      "text/plain": [
       "       loss  accuracy  precision    recall       auc  val_loss  val_accuracy  \\\n",
       "0  0.456139  0.929571   0.191614  0.013982  0.685086  0.362908      0.970956   \n",
       "1  0.335949  0.970993   0.902424  0.103316  0.863254  0.320160      0.969451   \n",
       "2  0.264978  0.972047   0.807160  0.510922  0.916809  0.232172      0.970956   \n",
       "3  0.228292  0.972235   0.797548  0.638679  0.935273  0.230220      0.970956   \n",
       "4  0.217016  0.972235   0.799738  0.672015  0.941714  0.209430      0.970805   \n",
       "\n",
       "   val_precision  val_recall   val_auc  \n",
       "0       1.000000    0.000429  0.839669  \n",
       "1       0.755390    0.551359  0.907324  \n",
       "2       0.857810    0.551502  0.935517  \n",
       "3       0.724095    0.755794  0.940845  \n",
       "4       0.847448    0.641345  0.946617  "
      ]
     },
     "execution_count": 21,
     "metadata": {},
     "output_type": "execute_result"
    }
   ],
   "source": [
    "hist_df = pd.DataFrame(history.history)\n",
    "hist_df.head()"
   ]
  },
  {
   "cell_type": "code",
   "execution_count": 22,
   "id": "e9da4d53",
   "metadata": {
    "colab": {
     "base_uri": "https://localhost:8080/",
     "height": 430
    },
    "executionInfo": {
     "elapsed": 319,
     "status": "ok",
     "timestamp": 1681086977637,
     "user": {
      "displayName": "Glory Odeyemi",
      "userId": "04491820538436953732"
     },
     "user_tz": 240
    },
    "id": "e9da4d53",
    "outputId": "3b6c569f-352a-4294-8cab-a8eb8d30fa46"
   },
   "outputs": [
    {
     "data": {
      "image/png": "[encoded data removed]",
      "text/plain": [
       "<Figure size 640x480 with 1 Axes>"
      ]
     },
     "metadata": {},
     "output_type": "display_data"
    }
   ],
   "source": [
    "gru.plot_accuracy(history)"
   ]
  },
  {
   "cell_type": "code",
   "execution_count": 23,
   "id": "uUzT_h9d4tVv",
   "metadata": {
    "colab": {
     "base_uri": "https://localhost:8080/",
     "height": 430
    },
    "executionInfo": {
     "elapsed": 176,
     "status": "ok",
     "timestamp": 1681086977809,
     "user": {
      "displayName": "Glory Odeyemi",
      "userId": "04491820538436953732"
     },
     "user_tz": 240
    },
    "id": "uUzT_h9d4tVv",
    "outputId": "0088a96d-92a5-4aab-ead1-b6a565866b0b"
   },
   "outputs": [
    {
     "data": {
      "image/png": "[encoded data removed]",
      "text/plain": [
       "<Figure size 640x480 with 1 Axes>"
      ]
     },
     "metadata": {},
     "output_type": "display_data"
    }
   ],
   "source": [
    "gru.plot_precision(history)"
   ]
  },
  {
   "cell_type": "code",
   "execution_count": 24,
   "id": "8n5AgfNj6k8P",
   "metadata": {
    "colab": {
     "base_uri": "https://localhost:8080/",
     "height": 430
    },
    "executionInfo": {
     "elapsed": 185,
     "status": "ok",
     "timestamp": 1681086977992,
     "user": {
      "displayName": "Glory Odeyemi",
      "userId": "04491820538436953732"
     },
     "user_tz": 240
    },
    "id": "8n5AgfNj6k8P",
    "outputId": "8eb89ea1-7589-4f44-9fe4-541af5cfae03"
   },
   "outputs": [
    {
     "data": {
      "image/png": "[encoded data removed]",
      "text/plain": [
       "<Figure size 640x480 with 1 Axes>"
      ]
     },
     "metadata": {},
     "output_type": "display_data"
    }
   ],
   "source": [
    "gru.plot_recall(history)"
   ]
  },
  {
   "cell_type": "code",
   "execution_count": 25,
   "id": "YTuI_i-b6oXT",
   "metadata": {
    "colab": {
     "base_uri": "https://localhost:8080/",
     "height": 430
    },
    "executionInfo": {
     "elapsed": 341,
     "status": "ok",
     "timestamp": 1681086978331,
     "user": {
      "displayName": "Glory Odeyemi",
      "userId": "04491820538436953732"
     },
     "user_tz": 240
    },
    "id": "YTuI_i-b6oXT",
    "outputId": "64ec7c46-9f25-4bd8-91cb-ddb96eac552d"
   },
   "outputs": [
    {
     "data": {
      "image/png": "[encoded data removed]",
      "text/plain": [
       "<Figure size 640x480 with 1 Axes>"
      ]
     },
     "metadata": {},
     "output_type": "display_data"
    }
   ],
   "source": [
    "gru.plot_auc(history)"
   ]
  },
  {
   "cell_type": "code",
   "execution_count": 26,
   "id": "05a6a9fa",
   "metadata": {
    "colab": {
     "base_uri": "https://localhost:8080/"
    },
    "executionInfo": {
     "elapsed": 4764,
     "status": "ok",
     "timestamp": 1681086983094,
     "user": {
      "displayName": "Glory Odeyemi",
      "userId": "04491820538436953732"
     },
     "user_tz": 240
    },
    "id": "05a6a9fa",
    "outputId": "f8fdda00-47cb-4ae4-91a4-06b5c3704872"
   },
   "outputs": [
    {
     "name": "stdout",
     "output_type": "stream",
     "text": [
      "Results:\n",
      "--------\n",
      "Training accuracy: 97.21%\n",
      "\n",
      "Training loss: 18.86%\n",
      "\n",
      "Training precision: 80.85%\n",
      "\n",
      "Training recall: 75.50%\n",
      "\n",
      "Training auc: 95.89%\n",
      "\n",
      "---------------\n",
      "Validation accuracy: 97.05%\n",
      "\n",
      "Validation loss: 19.78%\n",
      "\n",
      "Validation precision: 79.75%\n",
      "\n",
      "Validation recall: 74.86%\n",
      "\n",
      "Validation auc: 95.34%\n",
      "\n"
     ]
    }
   ],
   "source": [
    "gru.get_accuracy(model, val_pad, y_val, train_pad, y_train)"
   ]
  },
  {
   "cell_type": "code",
   "execution_count": 27,
   "id": "ab2654a5",
   "metadata": {
    "colab": {
     "base_uri": "https://localhost:8080/"
    },
    "executionInfo": {
     "elapsed": 2,
     "status": "ok",
     "timestamp": 1681086983094,
     "user": {
      "displayName": "Glory Odeyemi",
      "userId": "04491820538436953732"
     },
     "user_tz": 240
    },
    "id": "ab2654a5",
    "outputId": "2306cd87-a40f-4131-d146-dc07a0f5b042"
   },
   "outputs": [
    {
     "name": "stdout",
     "output_type": "stream",
     "text": [
      "Model saved!\n"
     ]
    }
   ],
   "source": [
    "gru.save_model(model)"
   ]
  },
  {
   "cell_type": "code",
   "execution_count": 28,
   "id": "16b89a34",
   "metadata": {
    "colab": {
     "base_uri": "https://localhost:8080/"
    },
    "executionInfo": {
     "elapsed": 353,
     "status": "ok",
     "timestamp": 1681086983446,
     "user": {
      "displayName": "Glory Odeyemi",
      "userId": "04491820538436953732"
     },
     "user_tz": 240
    },
    "id": "16b89a34",
    "outputId": "c01b138a-2232-450e-a721-b6beb94d3e48"
   },
   "outputs": [
    {
     "name": "stdout",
     "output_type": "stream",
     "text": [
      "Model loaded!\n"
     ]
    }
   ],
   "source": [
    "model = gru.load_model()"
   ]
  },
  {
   "cell_type": "code",
   "execution_count": 29,
   "id": "29663ba3",
   "metadata": {
    "colab": {
     "base_uri": "https://localhost:8080/"
    },
    "executionInfo": {
     "elapsed": 43739,
     "status": "ok",
     "timestamp": 1681087027442,
     "user": {
      "displayName": "Glory Odeyemi",
      "userId": "04491820538436953732"
     },
     "user_tz": 240
    },
    "id": "29663ba3",
    "outputId": "d497ef7e-6b5f-4086-893a-5ccb9d3c8882"
   },
   "outputs": [
    {
     "name": "stdout",
     "output_type": "stream",
     "text": [
      "4787/4787 [==============================] - 19s 4ms/step\n"
     ]
    }
   ],
   "source": [
    "col_id = test_data['id']\n",
    "com_text = test_data['comment_text']\n",
    "labels = ['toxic', 'severe_toxic', 'obscene', 'threat', 'insult', 'identity_hate']\n",
    "\n",
    "pred_result = gru.make_predictions(model, test_pad, col_id, com_text, labels)"
   ]
  },
  {
   "cell_type": "code",
   "execution_count": 30,
   "id": "eb1571f4",
   "metadata": {
    "colab": {
     "base_uri": "https://localhost:8080/",
     "height": 206
    },
    "executionInfo": {
     "elapsed": 26,
     "status": "ok",
     "timestamp": 1681087027442,
     "user": {
      "displayName": "Glory Odeyemi",
      "userId": "04491820538436953732"
     },
     "user_tz": 240
    },
    "id": "eb1571f4",
    "outputId": "7789d406-c406-4ba0-cd9d-bf24c46dfe9e"
   },
   "outputs": [
    {
     "data": {
      "text/html": [
       "\n",
       "  <div id=\"df-d13a6250-56fe-4b87-a69f-8f2c790df1bc\">\n",
       "    <div class=\"colab-df-container\">\n",
       "      <div>\n",
       "<style scoped>\n",
       "    .dataframe tbody tr th:only-of-type {\n",
       "        vertical-align: middle;\n",
       "    }\n",
       "\n",
       "    .dataframe tbody tr th {\n",
       "        vertical-align: top;\n",
       "    }\n",
       "\n",
       "    .dataframe thead th {\n",
       "        text-align: right;\n",
       "    }\n",
       "</style>\n",
       "<table border=\"1\" class=\"dataframe\">\n",
       "  <thead>\n",
       "    <tr style=\"text-align: right;\">\n",
       "      <th></th>\n",
       "      <th>id</th>\n",
       "      <th>comment_text</th>\n",
       "      <th>toxic</th>\n",
       "      <th>severe_toxic</th>\n",
       "      <th>obscene</th>\n",
       "      <th>threat</th>\n",
       "      <th>insult</th>\n",
       "      <th>identity_hate</th>\n",
       "    </tr>\n",
       "  </thead>\n",
       "  <tbody>\n",
       "    <tr>\n",
       "      <th>0</th>\n",
       "      <td>00001cee341fdb12</td>\n",
       "      <td>Yo bitch Ja Rule is more succesful then you'll...</td>\n",
       "      <td>0.968435</td>\n",
       "      <td>0.232830</td>\n",
       "      <td>0.879222</td>\n",
       "      <td>0.066497</td>\n",
       "      <td>0.744941</td>\n",
       "      <td>0.154348</td>\n",
       "    </tr>\n",
       "    <tr>\n",
       "      <th>1</th>\n",
       "      <td>0000247867823ef7</td>\n",
       "      <td>== From RfC == \\n\\n The title is fine as it is...</td>\n",
       "      <td>0.922501</td>\n",
       "      <td>0.022020</td>\n",
       "      <td>0.407774</td>\n",
       "      <td>0.016168</td>\n",
       "      <td>0.427442</td>\n",
       "      <td>0.052105</td>\n",
       "    </tr>\n",
       "    <tr>\n",
       "      <th>2</th>\n",
       "      <td>00013b17ad220c46</td>\n",
       "      <td>\" \\n\\n == Sources == \\n\\n * Zawe Ashton on Lap...</td>\n",
       "      <td>0.641388</td>\n",
       "      <td>0.028106</td>\n",
       "      <td>0.214399</td>\n",
       "      <td>0.044589</td>\n",
       "      <td>0.272919</td>\n",
       "      <td>0.077749</td>\n",
       "    </tr>\n",
       "    <tr>\n",
       "      <th>3</th>\n",
       "      <td>00017563c3f7919a</td>\n",
       "      <td>:If you have a look back at the source, the in...</td>\n",
       "      <td>0.566836</td>\n",
       "      <td>0.001169</td>\n",
       "      <td>0.060975</td>\n",
       "      <td>0.003776</td>\n",
       "      <td>0.095969</td>\n",
       "      <td>0.008719</td>\n",
       "    </tr>\n",
       "    <tr>\n",
       "      <th>4</th>\n",
       "      <td>00017695ad8997eb</td>\n",
       "      <td>I don't anonymously edit articles at all.</td>\n",
       "      <td>0.535313</td>\n",
       "      <td>0.005605</td>\n",
       "      <td>0.106657</td>\n",
       "      <td>0.013498</td>\n",
       "      <td>0.145763</td>\n",
       "      <td>0.026106</td>\n",
       "    </tr>\n",
       "  </tbody>\n",
       "</table>\n",
       "</div>\n",
       "      <button class=\"colab-df-convert\" onclick=\"convertToInteractive('df-d13a6250-56fe-4b87-a69f-8f2c790df1bc')\"\n",
       "              title=\"Convert this dataframe to an interactive table.\"\n",
       "              style=\"display:none;\">\n",
       "        \n",
       "  <svg xmlns=\"http://www.w3.org/2000/svg\" height=\"24px\"viewBox=\"0 0 24 24\"\n",
       "       width=\"24px\">\n",
       "    <path d=\"M0 0h24v24H0V0z\" fill=\"none\"/>\n",
       "    <path d=\"M18.56 5.44l.94 2.06.94-2.06 2.06-.94-2.06-.94-.94-2.06-.94 2.06-2.06.94zm-11 1L8.5 8.5l.94-2.06 2.06-.94-2.06-.94L8.5 2.5l-.94 2.06-2.06.94zm10 10l.94 2.06.94-2.06 2.06-.94-2.06-.94-.94-2.06-.94 2.06-2.06.94z\"/><path d=\"M17.41 7.96l-1.37-1.37c-.4-.4-.92-.59-1.43-.59-.52 0-1.04.2-1.43.59L10.3 9.45l-7.72 7.72c-.78.78-.78 2.05 0 2.83L4 21.41c.39.39.9.59 1.41.59.51 0 1.02-.2 1.41-.59l7.78-7.78 2.81-2.81c.8-.78.8-2.07 0-2.86zM5.41 20L4 18.59l7.72-7.72 1.47 1.35L5.41 20z\"/>\n",
       "  </svg>\n",
       "      </button>\n",
       "      \n",
       "  <style>\n",
       "    .colab-df-container {\n",
       "      display:flex;\n",
       "      flex-wrap:wrap;\n",
       "      gap: 12px;\n",
       "    }\n",
       "\n",
       "    .colab-df-convert {\n",
       "      background-color: #E8F0FE;\n",
       "      border: none;\n",
       "      border-radius: 50%;\n",
       "      cursor: pointer;\n",
       "      display: none;\n",
       "      fill: #1967D2;\n",
       "      height: 32px;\n",
       "      padding: 0 0 0 0;\n",
       "      width: 32px;\n",
       "    }\n",
       "\n",
       "    .colab-df-convert:hover {\n",
       "      background-color: #E2EBFA;\n",
       "      box-shadow: 0px 1px 2px rgba(60, 64, 67, 0.3), 0px 1px 3px 1px rgba(60, 64, 67, 0.15);\n",
       "      fill: #174EA6;\n",
       "    }\n",
       "\n",
       "    [theme=dark] .colab-df-convert {\n",
       "      background-color: #3B4455;\n",
       "      fill: #D2E3FC;\n",
       "    }\n",
       "\n",
       "    [theme=dark] .colab-df-convert:hover {\n",
       "      background-color: #434B5C;\n",
       "      box-shadow: 0px 1px 3px 1px rgba(0, 0, 0, 0.15);\n",
       "      filter: drop-shadow(0px 1px 2px rgba(0, 0, 0, 0.3));\n",
       "      fill: #FFFFFF;\n",
       "    }\n",
       "  </style>\n",
       "\n",
       "      <script>\n",
       "        const buttonEl =\n",
       "          document.querySelector('#df-d13a6250-56fe-4b87-a69f-8f2c790df1bc button.colab-df-convert');\n",
       "        buttonEl.style.display =\n",
       "          google.colab.kernel.accessAllowed ? 'block' : 'none';\n",
       "\n",
       "        async function convertToInteractive(key) {\n",
       "          const element = document.querySelector('#df-d13a6250-56fe-4b87-a69f-8f2c790df1bc');\n",
       "          const dataTable =\n",
       "            await google.colab.kernel.invokeFunction('convertToInteractive',\n",
       "                                                     [key], {});\n",
       "          if (!dataTable) return;\n",
       "\n",
       "          const docLinkHtml = 'Like what you see? Visit the ' +\n",
       "            '<a target=\"_blank\" href=https://colab.research.google.com/notebooks/data_table.ipynb>data table notebook</a>'\n",
       "            + ' to learn more about interactive tables.';\n",
       "          element.innerHTML = '';\n",
       "          dataTable['output_type'] = 'display_data';\n",
       "          await google.colab.output.renderOutput(dataTable, element);\n",
       "          const docLink = document.createElement('div');\n",
       "          docLink.innerHTML = docLinkHtml;\n",
       "          element.appendChild(docLink);\n",
       "        }\n",
       "      </script>\n",
       "    </div>\n",
       "  </div>\n",
       "  "
      ],
      "text/plain": [
       "                 id                                       comment_text  \\\n",
       "0  00001cee341fdb12  Yo bitch Ja Rule is more succesful then you'll...   \n",
       "1  0000247867823ef7  == From RfC == \\n\\n The title is fine as it is...   \n",
       "2  00013b17ad220c46  \" \\n\\n == Sources == \\n\\n * Zawe Ashton on Lap...   \n",
       "3  00017563c3f7919a  :If you have a look back at the source, the in...   \n",
       "4  00017695ad8997eb          I don't anonymously edit articles at all.   \n",
       "\n",
       "      toxic  severe_toxic   obscene    threat    insult  identity_hate  \n",
       "0  0.968435      0.232830  0.879222  0.066497  0.744941       0.154348  \n",
       "1  0.922501      0.022020  0.407774  0.016168  0.427442       0.052105  \n",
       "2  0.641388      0.028106  0.214399  0.044589  0.272919       0.077749  \n",
       "3  0.566836      0.001169  0.060975  0.003776  0.095969       0.008719  \n",
       "4  0.535313      0.005605  0.106657  0.013498  0.145763       0.026106  "
      ]
     },
     "execution_count": 30,
     "metadata": {},
     "output_type": "execute_result"
    }
   ],
   "source": [
    "pred_result.head()"
   ]
  },
  {
   "cell_type": "code",
   "execution_count": 31,
   "id": "LBWsWgomCRMP",
   "metadata": {
    "colab": {
     "base_uri": "https://localhost:8080/"
    },
    "executionInfo": {
     "elapsed": 10,
     "status": "ok",
     "timestamp": 1681087027442,
     "user": {
      "displayName": "Glory Odeyemi",
      "userId": "04491820538436953732"
     },
     "user_tz": 240
    },
    "id": "LBWsWgomCRMP",
    "outputId": "27fc9087-c39c-4296-a269-7131db1dc9c7"
   },
   "outputs": [
    {
     "name": "stdout",
     "output_type": "stream",
     "text": [
      "Sample comment:\n",
      "----------------\n",
      "== Wikipedia:Articles_for_deletion/Vedic_mathematics_(book) == \n",
      "\n",
      " Please participate in the debate.\n",
      "\n",
      "Predicted labels:\n",
      "--------------------\n",
      "          toxic  severe_toxic   obscene    threat    insult  identity_hate\n",
      "14000  0.045321      0.000161  0.010482  0.001354  0.010452       0.002214\n"
     ]
    }
   ],
   "source": [
    "text, label = generate_random(pred_result, 'comment_text', 50)\n",
    "print(f\"Sample comment:\\n----------------\\n{text}\")\n",
    "print()\n",
    "print(f\"Predicted labels:\\n--------------------\\n{label}\")"
   ]
  },
  {
   "cell_type": "code",
   "execution_count": 32,
   "id": "afMkH7K4DtNF",
   "metadata": {
    "colab": {
     "base_uri": "https://localhost:8080/"
    },
    "executionInfo": {
     "elapsed": 7,
     "status": "ok",
     "timestamp": 1681087027443,
     "user": {
      "displayName": "Glory Odeyemi",
      "userId": "04491820538436953732"
     },
     "user_tz": 240
    },
    "id": "afMkH7K4DtNF",
    "outputId": "7576034a-c915-41b7-e4e8-08c685818d27"
   },
   "outputs": [
    {
     "name": "stdout",
     "output_type": "stream",
     "text": [
      "Sample comment:\n",
      "----------------\n",
      "this is a load of BULLSHIT\n",
      "\n",
      "Predicted labels:\n",
      "--------------------\n",
      "         toxic  severe_toxic   obscene    threat   insult  identity_hate\n",
      "5994  0.953297      0.055487  0.672289  0.020938  0.58251       0.073725\n"
     ]
    }
   ],
   "source": [
    "text, label = generate_random(pred_result, 'comment_text', 3)\n",
    "print(f\"Sample comment:\\n----------------\\n{text}\")\n",
    "print()\n",
    "print(f\"Predicted labels:\\n--------------------\\n{label}\")"
   ]
  }
 ],
 "metadata": {
  "accelerator": "GPU",
  "colab": {
   "provenance": [
    {
     "file_id": "1MRlgLuNyN18r0ign194M45tMw_L78Kp7",
     "timestamp": 1681083238502
    },
    {
     "file_id": "1zx-Oma8hFRGApY12W-nub-mTfPvC8Vl8",
     "timestamp": 1680732446813
    }
   ]
  },
  "gpuClass": "standard",
  "kernelspec": {
   "display_name": "Python 3 (ipykernel)",
   "language": "python",
   "name": "python3"
  },
  "language_info": {
   "codemirror_mode": {
    "name": "ipython",
    "version": 3
   },
   "file_extension": ".py",
   "mimetype": "text/x-python",
   "name": "python",
   "nbconvert_exporter": "python",
   "pygments_lexer": "ipython3",
   "version": "3.9.13"
  }
 },
 "nbformat": 4,
 "nbformat_minor": 5
}
