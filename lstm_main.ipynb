{
 "cells": [
  {
   "cell_type": "markdown",
   "id": "44a7e478",
   "metadata": {},
   "source": [
    "## Import the needed libraries and dataset"
   ]
  },
  {
   "cell_type": "code",
   "execution_count": 4,
   "id": "f8112a9f",
   "metadata": {
    "colab": {
     "base_uri": "https://localhost:8080/"
    },
    "executionInfo": {
     "elapsed": 10159,
     "status": "ok",
     "timestamp": 1680843468636,
     "user": {
      "displayName": "Glory Odeyemi",
      "userId": "04491820538436953732"
     },
     "user_tz": 240
    },
    "id": "f8112a9f",
    "outputId": "d8d762de-5f1d-4c66-be96-7a6a231c2055"
   },
   "outputs": [
    {
     "name": "stderr",
     "output_type": "stream",
     "text": [
      "[nltk_data] Downloading package stopwords to /root/nltk_data...\n",
      "[nltk_data]   Package stopwords is already up-to-date!\n",
      "[nltk_data] Downloading package wordnet to /root/nltk_data...\n",
      "[nltk_data]   Package wordnet is already up-to-date!\n"
     ]
    },
    {
     "name": "stdout",
     "output_type": "stream",
     "text": [
      "Device:  cuda\n"
     ]
    }
   ],
   "source": [
    "import pandas as pd\n",
    "import numpy as np\n",
    "\n",
    "from utils.preprocess import *\n",
    "from utils.LSTM import LSTM"
   ]
  },
  {
   "cell_type": "code",
   "execution_count": 5,
   "id": "9cc60370",
   "metadata": {
    "executionInfo": {
     "elapsed": 19,
     "status": "ok",
     "timestamp": 1680843468637,
     "user": {
      "displayName": "Glory Odeyemi",
      "userId": "04491820538436953732"
     },
     "user_tz": 240
    },
    "id": "9cc60370"
   },
   "outputs": [],
   "source": [
    "file_loc = \"data/\""
   ]
  },
  {
   "cell_type": "code",
   "execution_count": 6,
   "id": "cc143c40",
   "metadata": {
    "colab": {
     "base_uri": "https://localhost:8080/",
     "height": 206
    },
    "executionInfo": {
     "elapsed": 2995,
     "status": "ok",
     "timestamp": 1680843471614,
     "user": {
      "displayName": "Glory Odeyemi",
      "userId": "04491820538436953732"
     },
     "user_tz": 240
    },
    "id": "cc143c40",
    "outputId": "8d2f84df-6244-48d6-a79f-0712246fb0c8"
   },
   "outputs": [
    {
     "data": {
      "text/html": [
       "\n",
       "  <div id=\"df-29d0e02a-88fd-471d-82bc-54d4c40c5605\">\n",
       "    <div class=\"colab-df-container\">\n",
       "      <div>\n",
       "<style scoped>\n",
       "    .dataframe tbody tr th:only-of-type {\n",
       "        vertical-align: middle;\n",
       "    }\n",
       "\n",
       "    .dataframe tbody tr th {\n",
       "        vertical-align: top;\n",
       "    }\n",
       "\n",
       "    .dataframe thead th {\n",
       "        text-align: right;\n",
       "    }\n",
       "</style>\n",
       "<table border=\"1\" class=\"dataframe\">\n",
       "  <thead>\n",
       "    <tr style=\"text-align: right;\">\n",
       "      <th></th>\n",
       "      <th>id</th>\n",
       "      <th>comment_text</th>\n",
       "      <th>toxic</th>\n",
       "      <th>severe_toxic</th>\n",
       "      <th>obscene</th>\n",
       "      <th>threat</th>\n",
       "      <th>insult</th>\n",
       "      <th>identity_hate</th>\n",
       "    </tr>\n",
       "  </thead>\n",
       "  <tbody>\n",
       "    <tr>\n",
       "      <th>0</th>\n",
       "      <td>0000997932d777bf</td>\n",
       "      <td>Explanation\\nWhy the edits made under my usern...</td>\n",
       "      <td>0</td>\n",
       "      <td>0</td>\n",
       "      <td>0</td>\n",
       "      <td>0</td>\n",
       "      <td>0</td>\n",
       "      <td>0</td>\n",
       "    </tr>\n",
       "    <tr>\n",
       "      <th>1</th>\n",
       "      <td>000103f0d9cfb60f</td>\n",
       "      <td>D'aww! He matches this background colour I'm s...</td>\n",
       "      <td>0</td>\n",
       "      <td>0</td>\n",
       "      <td>0</td>\n",
       "      <td>0</td>\n",
       "      <td>0</td>\n",
       "      <td>0</td>\n",
       "    </tr>\n",
       "    <tr>\n",
       "      <th>2</th>\n",
       "      <td>000113f07ec002fd</td>\n",
       "      <td>Hey man, I'm really not trying to edit war. It...</td>\n",
       "      <td>0</td>\n",
       "      <td>0</td>\n",
       "      <td>0</td>\n",
       "      <td>0</td>\n",
       "      <td>0</td>\n",
       "      <td>0</td>\n",
       "    </tr>\n",
       "    <tr>\n",
       "      <th>3</th>\n",
       "      <td>0001b41b1c6bb37e</td>\n",
       "      <td>\"\\nMore\\nI can't make any real suggestions on ...</td>\n",
       "      <td>0</td>\n",
       "      <td>0</td>\n",
       "      <td>0</td>\n",
       "      <td>0</td>\n",
       "      <td>0</td>\n",
       "      <td>0</td>\n",
       "    </tr>\n",
       "    <tr>\n",
       "      <th>4</th>\n",
       "      <td>0001d958c54c6e35</td>\n",
       "      <td>You, sir, are my hero. Any chance you remember...</td>\n",
       "      <td>0</td>\n",
       "      <td>0</td>\n",
       "      <td>0</td>\n",
       "      <td>0</td>\n",
       "      <td>0</td>\n",
       "      <td>0</td>\n",
       "    </tr>\n",
       "  </tbody>\n",
       "</table>\n",
       "</div>\n",
       "      <button class=\"colab-df-convert\" onclick=\"convertToInteractive('df-29d0e02a-88fd-471d-82bc-54d4c40c5605')\"\n",
       "              title=\"Convert this dataframe to an interactive table.\"\n",
       "              style=\"display:none;\">\n",
       "        \n",
       "  <svg xmlns=\"http://www.w3.org/2000/svg\" height=\"24px\"viewBox=\"0 0 24 24\"\n",
       "       width=\"24px\">\n",
       "    <path d=\"M0 0h24v24H0V0z\" fill=\"none\"/>\n",
       "    <path d=\"M18.56 5.44l.94 2.06.94-2.06 2.06-.94-2.06-.94-.94-2.06-.94 2.06-2.06.94zm-11 1L8.5 8.5l.94-2.06 2.06-.94-2.06-.94L8.5 2.5l-.94 2.06-2.06.94zm10 10l.94 2.06.94-2.06 2.06-.94-2.06-.94-.94-2.06-.94 2.06-2.06.94z\"/><path d=\"M17.41 7.96l-1.37-1.37c-.4-.4-.92-.59-1.43-.59-.52 0-1.04.2-1.43.59L10.3 9.45l-7.72 7.72c-.78.78-.78 2.05 0 2.83L4 21.41c.39.39.9.59 1.41.59.51 0 1.02-.2 1.41-.59l7.78-7.78 2.81-2.81c.8-.78.8-2.07 0-2.86zM5.41 20L4 18.59l7.72-7.72 1.47 1.35L5.41 20z\"/>\n",
       "  </svg>\n",
       "      </button>\n",
       "      \n",
       "  <style>\n",
       "    .colab-df-container {\n",
       "      display:flex;\n",
       "      flex-wrap:wrap;\n",
       "      gap: 12px;\n",
       "    }\n",
       "\n",
       "    .colab-df-convert {\n",
       "      background-color: #E8F0FE;\n",
       "      border: none;\n",
       "      border-radius: 50%;\n",
       "      cursor: pointer;\n",
       "      display: none;\n",
       "      fill: #1967D2;\n",
       "      height: 32px;\n",
       "      padding: 0 0 0 0;\n",
       "      width: 32px;\n",
       "    }\n",
       "\n",
       "    .colab-df-convert:hover {\n",
       "      background-color: #E2EBFA;\n",
       "      box-shadow: 0px 1px 2px rgba(60, 64, 67, 0.3), 0px 1px 3px 1px rgba(60, 64, 67, 0.15);\n",
       "      fill: #174EA6;\n",
       "    }\n",
       "\n",
       "    [theme=dark] .colab-df-convert {\n",
       "      background-color: #3B4455;\n",
       "      fill: #D2E3FC;\n",
       "    }\n",
       "\n",
       "    [theme=dark] .colab-df-convert:hover {\n",
       "      background-color: #434B5C;\n",
       "      box-shadow: 0px 1px 3px 1px rgba(0, 0, 0, 0.15);\n",
       "      filter: drop-shadow(0px 1px 2px rgba(0, 0, 0, 0.3));\n",
       "      fill: #FFFFFF;\n",
       "    }\n",
       "  </style>\n",
       "\n",
       "      <script>\n",
       "        const buttonEl =\n",
       "          document.querySelector('#df-29d0e02a-88fd-471d-82bc-54d4c40c5605 button.colab-df-convert');\n",
       "        buttonEl.style.display =\n",
       "          google.colab.kernel.accessAllowed ? 'block' : 'none';\n",
       "\n",
       "        async function convertToInteractive(key) {\n",
       "          const element = document.querySelector('#df-29d0e02a-88fd-471d-82bc-54d4c40c5605');\n",
       "          const dataTable =\n",
       "            await google.colab.kernel.invokeFunction('convertToInteractive',\n",
       "                                                     [key], {});\n",
       "          if (!dataTable) return;\n",
       "\n",
       "          const docLinkHtml = 'Like what you see? Visit the ' +\n",
       "            '<a target=\"_blank\" href=https://colab.research.google.com/notebooks/data_table.ipynb>data table notebook</a>'\n",
       "            + ' to learn more about interactive tables.';\n",
       "          element.innerHTML = '';\n",
       "          dataTable['output_type'] = 'display_data';\n",
       "          await google.colab.output.renderOutput(dataTable, element);\n",
       "          const docLink = document.createElement('div');\n",
       "          docLink.innerHTML = docLinkHtml;\n",
       "          element.appendChild(docLink);\n",
       "        }\n",
       "      </script>\n",
       "    </div>\n",
       "  </div>\n",
       "  "
      ],
      "text/plain": [
       "                 id                                       comment_text  toxic  \\\n",
       "0  0000997932d777bf  Explanation\\nWhy the edits made under my usern...      0   \n",
       "1  000103f0d9cfb60f  D'aww! He matches this background colour I'm s...      0   \n",
       "2  000113f07ec002fd  Hey man, I'm really not trying to edit war. It...      0   \n",
       "3  0001b41b1c6bb37e  \"\\nMore\\nI can't make any real suggestions on ...      0   \n",
       "4  0001d958c54c6e35  You, sir, are my hero. Any chance you remember...      0   \n",
       "\n",
       "   severe_toxic  obscene  threat  insult  identity_hate  \n",
       "0             0        0       0       0              0  \n",
       "1             0        0       0       0              0  \n",
       "2             0        0       0       0              0  \n",
       "3             0        0       0       0              0  \n",
       "4             0        0       0       0              0  "
      ]
     },
     "execution_count": 6,
     "metadata": {},
     "output_type": "execute_result"
    }
   ],
   "source": [
    "train_data = pd.read_csv(file_loc+\"train.csv\")\n",
    "train_data.head()"
   ]
  },
  {
   "cell_type": "code",
   "execution_count": 7,
   "id": "hLH9y6pnTfg6",
   "metadata": {
    "colab": {
     "base_uri": "https://localhost:8080/",
     "height": 206
    },
    "executionInfo": {
     "elapsed": 1133,
     "status": "ok",
     "timestamp": 1680843472746,
     "user": {
      "displayName": "Glory Odeyemi",
      "userId": "04491820538436953732"
     },
     "user_tz": 240
    },
    "id": "hLH9y6pnTfg6",
    "outputId": "5f1af22f-8a70-4d5c-9ab3-fa41bc058684"
   },
   "outputs": [
    {
     "data": {
      "text/html": [
       "\n",
       "  <div id=\"df-f79b985c-6fb1-4143-8495-416ae573525f\">\n",
       "    <div class=\"colab-df-container\">\n",
       "      <div>\n",
       "<style scoped>\n",
       "    .dataframe tbody tr th:only-of-type {\n",
       "        vertical-align: middle;\n",
       "    }\n",
       "\n",
       "    .dataframe tbody tr th {\n",
       "        vertical-align: top;\n",
       "    }\n",
       "\n",
       "    .dataframe thead th {\n",
       "        text-align: right;\n",
       "    }\n",
       "</style>\n",
       "<table border=\"1\" class=\"dataframe\">\n",
       "  <thead>\n",
       "    <tr style=\"text-align: right;\">\n",
       "      <th></th>\n",
       "      <th>id</th>\n",
       "      <th>comment_text</th>\n",
       "    </tr>\n",
       "  </thead>\n",
       "  <tbody>\n",
       "    <tr>\n",
       "      <th>0</th>\n",
       "      <td>00001cee341fdb12</td>\n",
       "      <td>Yo bitch Ja Rule is more succesful then you'll...</td>\n",
       "    </tr>\n",
       "    <tr>\n",
       "      <th>1</th>\n",
       "      <td>0000247867823ef7</td>\n",
       "      <td>== From RfC == \\n\\n The title is fine as it is...</td>\n",
       "    </tr>\n",
       "    <tr>\n",
       "      <th>2</th>\n",
       "      <td>00013b17ad220c46</td>\n",
       "      <td>\" \\n\\n == Sources == \\n\\n * Zawe Ashton on Lap...</td>\n",
       "    </tr>\n",
       "    <tr>\n",
       "      <th>3</th>\n",
       "      <td>00017563c3f7919a</td>\n",
       "      <td>:If you have a look back at the source, the in...</td>\n",
       "    </tr>\n",
       "    <tr>\n",
       "      <th>4</th>\n",
       "      <td>00017695ad8997eb</td>\n",
       "      <td>I don't anonymously edit articles at all.</td>\n",
       "    </tr>\n",
       "  </tbody>\n",
       "</table>\n",
       "</div>\n",
       "      <button class=\"colab-df-convert\" onclick=\"convertToInteractive('df-f79b985c-6fb1-4143-8495-416ae573525f')\"\n",
       "              title=\"Convert this dataframe to an interactive table.\"\n",
       "              style=\"display:none;\">\n",
       "        \n",
       "  <svg xmlns=\"http://www.w3.org/2000/svg\" height=\"24px\"viewBox=\"0 0 24 24\"\n",
       "       width=\"24px\">\n",
       "    <path d=\"M0 0h24v24H0V0z\" fill=\"none\"/>\n",
       "    <path d=\"M18.56 5.44l.94 2.06.94-2.06 2.06-.94-2.06-.94-.94-2.06-.94 2.06-2.06.94zm-11 1L8.5 8.5l.94-2.06 2.06-.94-2.06-.94L8.5 2.5l-.94 2.06-2.06.94zm10 10l.94 2.06.94-2.06 2.06-.94-2.06-.94-.94-2.06-.94 2.06-2.06.94z\"/><path d=\"M17.41 7.96l-1.37-1.37c-.4-.4-.92-.59-1.43-.59-.52 0-1.04.2-1.43.59L10.3 9.45l-7.72 7.72c-.78.78-.78 2.05 0 2.83L4 21.41c.39.39.9.59 1.41.59.51 0 1.02-.2 1.41-.59l7.78-7.78 2.81-2.81c.8-.78.8-2.07 0-2.86zM5.41 20L4 18.59l7.72-7.72 1.47 1.35L5.41 20z\"/>\n",
       "  </svg>\n",
       "      </button>\n",
       "      \n",
       "  <style>\n",
       "    .colab-df-container {\n",
       "      display:flex;\n",
       "      flex-wrap:wrap;\n",
       "      gap: 12px;\n",
       "    }\n",
       "\n",
       "    .colab-df-convert {\n",
       "      background-color: #E8F0FE;\n",
       "      border: none;\n",
       "      border-radius: 50%;\n",
       "      cursor: pointer;\n",
       "      display: none;\n",
       "      fill: #1967D2;\n",
       "      height: 32px;\n",
       "      padding: 0 0 0 0;\n",
       "      width: 32px;\n",
       "    }\n",
       "\n",
       "    .colab-df-convert:hover {\n",
       "      background-color: #E2EBFA;\n",
       "      box-shadow: 0px 1px 2px rgba(60, 64, 67, 0.3), 0px 1px 3px 1px rgba(60, 64, 67, 0.15);\n",
       "      fill: #174EA6;\n",
       "    }\n",
       "\n",
       "    [theme=dark] .colab-df-convert {\n",
       "      background-color: #3B4455;\n",
       "      fill: #D2E3FC;\n",
       "    }\n",
       "\n",
       "    [theme=dark] .colab-df-convert:hover {\n",
       "      background-color: #434B5C;\n",
       "      box-shadow: 0px 1px 3px 1px rgba(0, 0, 0, 0.15);\n",
       "      filter: drop-shadow(0px 1px 2px rgba(0, 0, 0, 0.3));\n",
       "      fill: #FFFFFF;\n",
       "    }\n",
       "  </style>\n",
       "\n",
       "      <script>\n",
       "        const buttonEl =\n",
       "          document.querySelector('#df-f79b985c-6fb1-4143-8495-416ae573525f button.colab-df-convert');\n",
       "        buttonEl.style.display =\n",
       "          google.colab.kernel.accessAllowed ? 'block' : 'none';\n",
       "\n",
       "        async function convertToInteractive(key) {\n",
       "          const element = document.querySelector('#df-f79b985c-6fb1-4143-8495-416ae573525f');\n",
       "          const dataTable =\n",
       "            await google.colab.kernel.invokeFunction('convertToInteractive',\n",
       "                                                     [key], {});\n",
       "          if (!dataTable) return;\n",
       "\n",
       "          const docLinkHtml = 'Like what you see? Visit the ' +\n",
       "            '<a target=\"_blank\" href=https://colab.research.google.com/notebooks/data_table.ipynb>data table notebook</a>'\n",
       "            + ' to learn more about interactive tables.';\n",
       "          element.innerHTML = '';\n",
       "          dataTable['output_type'] = 'display_data';\n",
       "          await google.colab.output.renderOutput(dataTable, element);\n",
       "          const docLink = document.createElement('div');\n",
       "          docLink.innerHTML = docLinkHtml;\n",
       "          element.appendChild(docLink);\n",
       "        }\n",
       "      </script>\n",
       "    </div>\n",
       "  </div>\n",
       "  "
      ],
      "text/plain": [
       "                 id                                       comment_text\n",
       "0  00001cee341fdb12  Yo bitch Ja Rule is more succesful then you'll...\n",
       "1  0000247867823ef7  == From RfC == \\n\\n The title is fine as it is...\n",
       "2  00013b17ad220c46  \" \\n\\n == Sources == \\n\\n * Zawe Ashton on Lap...\n",
       "3  00017563c3f7919a  :If you have a look back at the source, the in...\n",
       "4  00017695ad8997eb          I don't anonymously edit articles at all."
      ]
     },
     "execution_count": 7,
     "metadata": {},
     "output_type": "execute_result"
    }
   ],
   "source": [
    "test_data = pd.read_csv(file_loc+\"/test.csv\")\n",
    "test_data.head()"
   ]
  },
  {
   "cell_type": "markdown",
   "id": "c119293f",
   "metadata": {},
   "source": [
    "## Data Preprocessing"
   ]
  },
  {
   "cell_type": "code",
   "execution_count": 8,
   "id": "F8AAzvd3rujm",
   "metadata": {
    "colab": {
     "base_uri": "https://localhost:8080/"
    },
    "executionInfo": {
     "elapsed": 11,
     "status": "ok",
     "timestamp": 1680843472747,
     "user": {
      "displayName": "Glory Odeyemi",
      "userId": "04491820538436953732"
     },
     "user_tz": 240
    },
    "id": "F8AAzvd3rujm",
    "outputId": "e44446cc-f741-41e4-ffea-2cc97c5e688a"
   },
   "outputs": [
    {
     "name": "stdout",
     "output_type": "stream",
     "text": [
      "Before Undersampling\n",
      "--------------------\n",
      "Train data: (159571, 8)\n",
      "Toxic data: (16225, 8)\n",
      "Clean data: (143346, 8)\n",
      "\n",
      "After Undersampling\n",
      "-------------------\n",
      "Balance data: (33225, 8)\n",
      "Balance toxic data: (16225, 8)\n",
      "Balance clean data: (17000, 8)\n"
     ]
    }
   ],
   "source": [
    "# dealing with class imbalance\n",
    "bal_data = balance_class(train_data.copy())"
   ]
  },
  {
   "cell_type": "code",
   "execution_count": 9,
   "id": "9f33ec63",
   "metadata": {
    "colab": {
     "base_uri": "https://localhost:8080/"
    },
    "executionInfo": {
     "elapsed": 4149,
     "status": "ok",
     "timestamp": 1680843476890,
     "user": {
      "displayName": "Glory Odeyemi",
      "userId": "04491820538436953732"
     },
     "user_tz": 240
    },
    "id": "9f33ec63",
    "outputId": "f91a7a07-a0a4-4b11-a696-85d0707ab77b"
   },
   "outputs": [
    {
     "name": "stdout",
     "output_type": "stream",
     "text": [
      "-------------\n",
      "Cleaning data\n",
      "-------------\n",
      "Data cleaned!\n"
     ]
    }
   ],
   "source": [
    "# remove symbols, numbers, non-characters, new line, links, stopwords, and html tags\n",
    "clean_data = clean(bal_data.copy())"
   ]
  },
  {
   "cell_type": "code",
   "execution_count": 10,
   "id": "Qsi1dEOVwykw",
   "metadata": {
    "colab": {
     "base_uri": "https://localhost:8080/"
    },
    "executionInfo": {
     "elapsed": 7,
     "status": "ok",
     "timestamp": 1680843476891,
     "user": {
      "displayName": "Glory Odeyemi",
      "userId": "04491820538436953732"
     },
     "user_tz": 240
    },
    "id": "Qsi1dEOVwykw",
    "outputId": "229dbe72-27e5-4310-c72b-11e78acf9d7f"
   },
   "outputs": [
    {
     "name": "stdout",
     "output_type": "stream",
     "text": [
      "Original sample comment:\n",
      "------------------------\n",
      "Yup! Of course I'm blocked! Because you bot assholes can't take the fact that you have no lives. You spend every minute of your life editing WP, and for what?! Organization? More like ORDER.\n",
      "\n",
      "Clean sample comment:\n",
      "---------------------\n",
      "yup of course i'm blocked because bot assholes can't take fact lives you spend every minute life editing wp organization more like order\n"
     ]
    }
   ],
   "source": [
    "text, label = generate_random(clean_data, 'comment_text', 3)\n",
    "print(f\"Original sample comment:\\n------------------------\\n{text}\")\n",
    "print()\n",
    "text, label = generate_random(clean_data, 'clean', 3)\n",
    "print(f\"Clean sample comment:\\n---------------------\\n{text}\")"
   ]
  },
  {
   "cell_type": "code",
   "execution_count": 11,
   "id": "ac0f4ab7",
   "metadata": {
    "colab": {
     "base_uri": "https://localhost:8080/"
    },
    "executionInfo": {
     "elapsed": 3753,
     "status": "ok",
     "timestamp": 1680843480641,
     "user": {
      "displayName": "Glory Odeyemi",
      "userId": "04491820538436953732"
     },
     "user_tz": 240
    },
    "id": "ac0f4ab7",
    "outputId": "087fd718-59d6-40e6-fec2-e1e4ad31c3fd"
   },
   "outputs": [
    {
     "name": "stdout",
     "output_type": "stream",
     "text": [
      "------------------\n",
      "Decontracting text\n",
      "------------------\n",
      "Texts decontracted!\n"
     ]
    }
   ],
   "source": [
    "# remove contractions in text\n",
    "clean_data = decontract(clean_data)"
   ]
  },
  {
   "cell_type": "code",
   "execution_count": 12,
   "id": "NPdxWFukzFh9",
   "metadata": {
    "colab": {
     "base_uri": "https://localhost:8080/"
    },
    "executionInfo": {
     "elapsed": 11,
     "status": "ok",
     "timestamp": 1680843480641,
     "user": {
      "displayName": "Glory Odeyemi",
      "userId": "04491820538436953732"
     },
     "user_tz": 240
    },
    "id": "NPdxWFukzFh9",
    "outputId": "cbbbb16a-1142-4b5c-d576-88e6449879ca"
   },
   "outputs": [
    {
     "name": "stdout",
     "output_type": "stream",
     "text": [
      "Clean sample comment:\n",
      "---------------------\n",
      "yup of course i'm blocked because bot assholes can't take fact lives you spend every minute life editing wp organization more like order\n",
      "\n",
      "Decontracted sample comment:\n",
      "----------------------------\n",
      "yup of course i am blocked because bot assholes cannot take fact lives you spend every minute life editing wp organization more like order\n"
     ]
    }
   ],
   "source": [
    "text, label = generate_random(clean_data, 'clean', 3)\n",
    "print(f\"Clean sample comment:\\n---------------------\\n{text}\")\n",
    "print()\n",
    "text, label = generate_random(clean_data, 'decontracted', 3)\n",
    "print(f\"Decontracted sample comment:\\n----------------------------\\n{text}\")"
   ]
  },
  {
   "cell_type": "code",
   "execution_count": 13,
   "id": "0d218cc7",
   "metadata": {
    "colab": {
     "base_uri": "https://localhost:8080/"
    },
    "executionInfo": {
     "elapsed": 17666,
     "status": "ok",
     "timestamp": 1680843498297,
     "user": {
      "displayName": "Glory Odeyemi",
      "userId": "04491820538436953732"
     },
     "user_tz": 240
    },
    "id": "0d218cc7",
    "outputId": "99239742-d797-4648-dc70-3ad20f5c5b4d"
   },
   "outputs": [
    {
     "name": "stdout",
     "output_type": "stream",
     "text": [
      "----------------\n",
      "Lemmatizing text\n",
      "----------------\n",
      "Text lemmatized!\n"
     ]
    }
   ],
   "source": [
    "# lemmatize words in text\n",
    "clean_data = lemmatize(clean_data)"
   ]
  },
  {
   "cell_type": "code",
   "execution_count": 14,
   "id": "-RBqALTszVcc",
   "metadata": {
    "colab": {
     "base_uri": "https://localhost:8080/"
    },
    "executionInfo": {
     "elapsed": 13,
     "status": "ok",
     "timestamp": 1680843498297,
     "user": {
      "displayName": "Glory Odeyemi",
      "userId": "04491820538436953732"
     },
     "user_tz": 240
    },
    "id": "-RBqALTszVcc",
    "outputId": "b4573610-eb5a-482d-d9c4-5249d4ad4821"
   },
   "outputs": [
    {
     "name": "stdout",
     "output_type": "stream",
     "text": [
      "Decontracted sample comment:\n",
      "----------------------------\n",
      "yup of course i am blocked because bot assholes cannot take fact lives you spend every minute life editing wp organization more like order\n",
      "\n",
      "Lemmatized sample comment:\n",
      "--------------------------\n",
      " yup of course i be block because bot asshole cannot take fact life you spend every minute life edit wp organization more like order\n"
     ]
    }
   ],
   "source": [
    "text, label = generate_random(clean_data, 'decontracted', 3)\n",
    "print(f\"Decontracted sample comment:\\n----------------------------\\n{text}\")\n",
    "print()\n",
    "text, label = generate_random(clean_data, 'lemmatized', 3)\n",
    "print(f\"Lemmatized sample comment:\\n--------------------------\\n{text}\")"
   ]
  },
  {
   "cell_type": "code",
   "execution_count": 15,
   "id": "20edf334",
   "metadata": {
    "colab": {
     "base_uri": "https://localhost:8080/"
    },
    "executionInfo": {
     "elapsed": 12,
     "status": "ok",
     "timestamp": 1680843498297,
     "user": {
      "displayName": "Glory Odeyemi",
      "userId": "04491820538436953732"
     },
     "user_tz": 240
    },
    "id": "20edf334",
    "outputId": "15c657e3-141e-4857-a2e9-71fda5660d7e"
   },
   "outputs": [
    {
     "name": "stdout",
     "output_type": "stream",
     "text": [
      "------------------\n",
      "Splitting the data\n",
      "------------------\n",
      "Splitting done!\n"
     ]
    },
    {
     "data": {
      "text/plain": [
       "((26580,), (6645,), (26580, 6), (6645, 6))"
      ]
     },
     "execution_count": 15,
     "metadata": {},
     "output_type": "execute_result"
    }
   ],
   "source": [
    "# split the train data into 80% train and 20% validation\n",
    "X_train, X_val, y_train, y_val = split_data(clean_data)\n",
    "X_train.shape, X_val.shape, y_train.shape, y_val.shape"
   ]
  },
  {
   "cell_type": "code",
   "execution_count": 16,
   "id": "b744a893",
   "metadata": {
    "executionInfo": {
     "elapsed": 12,
     "status": "ok",
     "timestamp": 1680843498298,
     "user": {
      "displayName": "Glory Odeyemi",
      "userId": "04491820538436953732"
     },
     "user_tz": 240
    },
    "id": "b744a893"
   },
   "outputs": [],
   "source": [
    "# create an instance of the LSTM class\n",
    "lstm = LSTM()"
   ]
  },
  {
   "cell_type": "code",
   "execution_count": 17,
   "id": "9607fd96",
   "metadata": {
    "colab": {
     "base_uri": "https://localhost:8080/"
    },
    "executionInfo": {
     "elapsed": 9284,
     "status": "ok",
     "timestamp": 1680843507570,
     "user": {
      "displayName": "Glory Odeyemi",
      "userId": "04491820538436953732"
     },
     "user_tz": 240
    },
    "id": "9607fd96",
    "outputId": "8527fc62-9681-4a10-e3b8-a9ecea84cfa8"
   },
   "outputs": [
    {
     "data": {
      "text/plain": [
       "((26580, 200), (153164, 200), (6645, 200))"
      ]
     },
     "execution_count": 17,
     "metadata": {},
     "output_type": "execute_result"
    }
   ],
   "source": [
    "# tokenize the data\n",
    "X_test = test_data['comment_text'].to_numpy().reshape(-1,)\n",
    "X = clean_data[\"lemmatized\"].to_numpy().reshape(-1,)\n",
    "\n",
    "train_pad, val_pad, test_pad = lstm.tokenize(X, X_train, X_test, X_val)\n",
    "train_pad.shape, test_pad.shape, val_pad.shape"
   ]
  },
  {
   "cell_type": "markdown",
   "id": "94a3ccae",
   "metadata": {},
   "source": [
    "## Toxic comment classification using LSTM"
   ]
  },
  {
   "cell_type": "code",
   "execution_count": 18,
   "id": "6de4c4be",
   "metadata": {
    "colab": {
     "base_uri": "https://localhost:8080/"
    },
    "executionInfo": {
     "elapsed": 1953,
     "status": "ok",
     "timestamp": 1680843509505,
     "user": {
      "displayName": "Glory Odeyemi",
      "userId": "04491820538436953732"
     },
     "user_tz": 240
    },
    "id": "6de4c4be",
    "outputId": "3a7eee34-ca50-44cf-c278-9c42a78f368e"
   },
   "outputs": [
    {
     "name": "stdout",
     "output_type": "stream",
     "text": [
      "Building the model...\n",
      "---------------------\n",
      "Model: \"sequential\"\n",
      "_________________________________________________________________\n",
      " Layer (type)                Output Shape              Param #   \n",
      "=================================================================\n",
      " embedding (Embedding)       (None, 200, 50)           100000    \n",
      "                                                                 \n",
      " lstm (LSTM)                 (None, 64)                29440     \n",
      "                                                                 \n",
      " dense (Dense)               (None, 256)               16640     \n",
      "                                                                 \n",
      " dense_1 (Dense)             (None, 6)                 1542      \n",
      "                                                                 \n",
      "=================================================================\n",
      "Total params: 147,622\n",
      "Trainable params: 147,622\n",
      "Non-trainable params: 0\n",
      "_________________________________________________________________\n",
      "Done!\n"
     ]
    }
   ],
   "source": [
    "# build the model\n",
    "model = lstm.build_model()"
   ]
  },
  {
   "cell_type": "code",
   "execution_count": 20,
   "id": "2b966b34",
   "metadata": {
    "colab": {
     "base_uri": "https://localhost:8080/"
    },
    "executionInfo": {
     "elapsed": 7,
     "status": "ok",
     "timestamp": 1680843509506,
     "user": {
      "displayName": "Glory Odeyemi",
      "userId": "04491820538436953732"
     },
     "user_tz": 240
    },
    "id": "2b966b34",
    "outputId": "57b2b69b-6744-41b5-8937-94d0ed0b619d"
   },
   "outputs": [
    {
     "name": "stdout",
     "output_type": "stream",
     "text": [
      "Compiling the model...\n",
      "----------------------\n",
      "Model compiled!\n"
     ]
    }
   ],
   "source": [
    "# compile the model\n",
    "model = lstm.compile_model(model)"
   ]
  },
  {
   "cell_type": "code",
   "execution_count": 21,
   "id": "0265d3bd",
   "metadata": {
    "colab": {
     "base_uri": "https://localhost:8080/"
    },
    "executionInfo": {
     "elapsed": 44944,
     "status": "ok",
     "timestamp": 1680843554445,
     "user": {
      "displayName": "Glory Odeyemi",
      "userId": "04491820538436953732"
     },
     "user_tz": 240
    },
    "id": "0265d3bd",
    "outputId": "aa9ee7c0-72d3-4ab5-8381-9cdbcf3be327"
   },
   "outputs": [
    {
     "name": "stdout",
     "output_type": "stream",
     "text": [
      "Training the model\n",
      "------------------\n",
      "Epoch 1/10\n",
      "52/52 [==============================] - 14s 182ms/step - loss: 0.4320 - accuracy: 0.9616 - precision: 0.3699 - recall: 0.0446 - auc: 0.7136 - val_loss: 0.3738 - val_accuracy: 0.9710 - val_precision: 0.7558 - val_recall: 0.0328 - val_auc: 0.7996\n",
      "Epoch 2/10\n",
      "52/52 [==============================] - 7s 127ms/step - loss: 0.3752 - accuracy: 0.9722 - precision: 0.4678 - recall: 0.0447 - auc: 0.7940 - val_loss: 0.3733 - val_accuracy: 0.9710 - val_precision: 0.0000e+00 - val_recall: 0.0000e+00 - val_auc: 0.8228\n",
      "Epoch 3/10\n",
      "52/52 [==============================] - 3s 46ms/step - loss: 0.3710 - accuracy: 0.9722 - precision: 0.5822 - recall: 0.0485 - auc: 0.8086 - val_loss: 0.3583 - val_accuracy: 0.9705 - val_precision: 0.6359 - val_recall: 0.2631 - val_auc: 0.8397\n",
      "Epoch 4/10\n",
      "52/52 [==============================] - 3s 57ms/step - loss: 0.3290 - accuracy: 0.9715 - precision: 0.7013 - recall: 0.2991 - auc: 0.8633 - val_loss: 0.2773 - val_accuracy: 0.9710 - val_precision: 0.8009 - val_recall: 0.4511 - val_auc: 0.9121\n",
      "Epoch 5/10\n",
      "52/52 [==============================] - 3s 67ms/step - loss: 0.2619 - accuracy: 0.9722 - precision: 0.7690 - recall: 0.5581 - auc: 0.9165 - val_loss: 0.2332 - val_accuracy: 0.9710 - val_precision: 0.7861 - val_recall: 0.6378 - val_auc: 0.9338\n",
      "Epoch 6/10\n",
      "52/52 [==============================] - 3s 56ms/step - loss: 0.2308 - accuracy: 0.9722 - precision: 0.7915 - recall: 0.6358 - auc: 0.9340 - val_loss: 0.2164 - val_accuracy: 0.9710 - val_precision: 0.7718 - val_recall: 0.7196 - val_auc: 0.9435\n",
      "Epoch 7/10\n",
      "52/52 [==============================] - 2s 34ms/step - loss: 0.2161 - accuracy: 0.9722 - precision: 0.8040 - recall: 0.6695 - auc: 0.9424 - val_loss: 0.2081 - val_accuracy: 0.9710 - val_precision: 0.8454 - val_recall: 0.6471 - val_auc: 0.9469\n",
      "Epoch 8/10\n",
      "52/52 [==============================] - 2s 37ms/step - loss: 0.2081 - accuracy: 0.9722 - precision: 0.8122 - recall: 0.6872 - auc: 0.9468 - val_loss: 0.2023 - val_accuracy: 0.9710 - val_precision: 0.8040 - val_recall: 0.7193 - val_auc: 0.9494\n",
      "Epoch 9/10\n",
      "52/52 [==============================] - 2s 31ms/step - loss: 0.2021 - accuracy: 0.9722 - precision: 0.8129 - recall: 0.7000 - auc: 0.9502 - val_loss: 0.2019 - val_accuracy: 0.9710 - val_precision: 0.8479 - val_recall: 0.6644 - val_auc: 0.9501\n",
      "Epoch 10/10\n",
      "52/52 [==============================] - 1s 24ms/step - loss: 0.1990 - accuracy: 0.9722 - precision: 0.8149 - recall: 0.7057 - auc: 0.9518 - val_loss: 0.1962 - val_accuracy: 0.9710 - val_precision: 0.8156 - val_recall: 0.7250 - val_auc: 0.9528\n"
     ]
    }
   ],
   "source": [
    "# train the model\n",
    "history = lstm.train_model(model, train_pad, y_train, val_pad, y_val)"
   ]
  },
  {
   "cell_type": "code",
   "execution_count": 22,
   "id": "f70d4323",
   "metadata": {
    "colab": {
     "base_uri": "https://localhost:8080/",
     "height": 206
    },
    "executionInfo": {
     "elapsed": 22,
     "status": "ok",
     "timestamp": 1680843554446,
     "user": {
      "displayName": "Glory Odeyemi",
      "userId": "04491820538436953732"
     },
     "user_tz": 240
    },
    "id": "f70d4323",
    "outputId": "42fedf8e-2f7d-4650-a0e7-219c1cba1d62"
   },
   "outputs": [
    {
     "data": {
      "text/html": [
       "\n",
       "  <div id=\"df-cd542522-75b9-4445-a4c3-9733c5edb91b\">\n",
       "    <div class=\"colab-df-container\">\n",
       "      <div>\n",
       "<style scoped>\n",
       "    .dataframe tbody tr th:only-of-type {\n",
       "        vertical-align: middle;\n",
       "    }\n",
       "\n",
       "    .dataframe tbody tr th {\n",
       "        vertical-align: top;\n",
       "    }\n",
       "\n",
       "    .dataframe thead th {\n",
       "        text-align: right;\n",
       "    }\n",
       "</style>\n",
       "<table border=\"1\" class=\"dataframe\">\n",
       "  <thead>\n",
       "    <tr style=\"text-align: right;\">\n",
       "      <th></th>\n",
       "      <th>loss</th>\n",
       "      <th>accuracy</th>\n",
       "      <th>precision</th>\n",
       "      <th>recall</th>\n",
       "      <th>auc</th>\n",
       "      <th>val_loss</th>\n",
       "      <th>val_accuracy</th>\n",
       "      <th>val_precision</th>\n",
       "      <th>val_recall</th>\n",
       "      <th>val_auc</th>\n",
       "    </tr>\n",
       "  </thead>\n",
       "  <tbody>\n",
       "    <tr>\n",
       "      <th>0</th>\n",
       "      <td>0.432031</td>\n",
       "      <td>0.961550</td>\n",
       "      <td>0.369879</td>\n",
       "      <td>0.044649</td>\n",
       "      <td>0.713556</td>\n",
       "      <td>0.373828</td>\n",
       "      <td>0.970956</td>\n",
       "      <td>0.755776</td>\n",
       "      <td>0.032761</td>\n",
       "      <td>0.799636</td>\n",
       "    </tr>\n",
       "    <tr>\n",
       "      <th>1</th>\n",
       "      <td>0.375212</td>\n",
       "      <td>0.972235</td>\n",
       "      <td>0.467808</td>\n",
       "      <td>0.044720</td>\n",
       "      <td>0.794013</td>\n",
       "      <td>0.373333</td>\n",
       "      <td>0.970956</td>\n",
       "      <td>0.000000</td>\n",
       "      <td>0.000000</td>\n",
       "      <td>0.822781</td>\n",
       "    </tr>\n",
       "    <tr>\n",
       "      <th>2</th>\n",
       "      <td>0.370960</td>\n",
       "      <td>0.972160</td>\n",
       "      <td>0.582230</td>\n",
       "      <td>0.048492</td>\n",
       "      <td>0.808637</td>\n",
       "      <td>0.358263</td>\n",
       "      <td>0.970504</td>\n",
       "      <td>0.635892</td>\n",
       "      <td>0.263090</td>\n",
       "      <td>0.839659</td>\n",
       "    </tr>\n",
       "    <tr>\n",
       "      <th>3</th>\n",
       "      <td>0.329031</td>\n",
       "      <td>0.971520</td>\n",
       "      <td>0.701260</td>\n",
       "      <td>0.299061</td>\n",
       "      <td>0.863296</td>\n",
       "      <td>0.277336</td>\n",
       "      <td>0.970956</td>\n",
       "      <td>0.800864</td>\n",
       "      <td>0.451073</td>\n",
       "      <td>0.912080</td>\n",
       "    </tr>\n",
       "    <tr>\n",
       "      <th>4</th>\n",
       "      <td>0.261882</td>\n",
       "      <td>0.972235</td>\n",
       "      <td>0.768997</td>\n",
       "      <td>0.558062</td>\n",
       "      <td>0.916545</td>\n",
       "      <td>0.233243</td>\n",
       "      <td>0.970956</td>\n",
       "      <td>0.786105</td>\n",
       "      <td>0.637768</td>\n",
       "      <td>0.933802</td>\n",
       "    </tr>\n",
       "  </tbody>\n",
       "</table>\n",
       "</div>\n",
       "      <button class=\"colab-df-convert\" onclick=\"convertToInteractive('df-cd542522-75b9-4445-a4c3-9733c5edb91b')\"\n",
       "              title=\"Convert this dataframe to an interactive table.\"\n",
       "              style=\"display:none;\">\n",
       "        \n",
       "  <svg xmlns=\"http://www.w3.org/2000/svg\" height=\"24px\"viewBox=\"0 0 24 24\"\n",
       "       width=\"24px\">\n",
       "    <path d=\"M0 0h24v24H0V0z\" fill=\"none\"/>\n",
       "    <path d=\"M18.56 5.44l.94 2.06.94-2.06 2.06-.94-2.06-.94-.94-2.06-.94 2.06-2.06.94zm-11 1L8.5 8.5l.94-2.06 2.06-.94-2.06-.94L8.5 2.5l-.94 2.06-2.06.94zm10 10l.94 2.06.94-2.06 2.06-.94-2.06-.94-.94-2.06-.94 2.06-2.06.94z\"/><path d=\"M17.41 7.96l-1.37-1.37c-.4-.4-.92-.59-1.43-.59-.52 0-1.04.2-1.43.59L10.3 9.45l-7.72 7.72c-.78.78-.78 2.05 0 2.83L4 21.41c.39.39.9.59 1.41.59.51 0 1.02-.2 1.41-.59l7.78-7.78 2.81-2.81c.8-.78.8-2.07 0-2.86zM5.41 20L4 18.59l7.72-7.72 1.47 1.35L5.41 20z\"/>\n",
       "  </svg>\n",
       "      </button>\n",
       "      \n",
       "  <style>\n",
       "    .colab-df-container {\n",
       "      display:flex;\n",
       "      flex-wrap:wrap;\n",
       "      gap: 12px;\n",
       "    }\n",
       "\n",
       "    .colab-df-convert {\n",
       "      background-color: #E8F0FE;\n",
       "      border: none;\n",
       "      border-radius: 50%;\n",
       "      cursor: pointer;\n",
       "      display: none;\n",
       "      fill: #1967D2;\n",
       "      height: 32px;\n",
       "      padding: 0 0 0 0;\n",
       "      width: 32px;\n",
       "    }\n",
       "\n",
       "    .colab-df-convert:hover {\n",
       "      background-color: #E2EBFA;\n",
       "      box-shadow: 0px 1px 2px rgba(60, 64, 67, 0.3), 0px 1px 3px 1px rgba(60, 64, 67, 0.15);\n",
       "      fill: #174EA6;\n",
       "    }\n",
       "\n",
       "    [theme=dark] .colab-df-convert {\n",
       "      background-color: #3B4455;\n",
       "      fill: #D2E3FC;\n",
       "    }\n",
       "\n",
       "    [theme=dark] .colab-df-convert:hover {\n",
       "      background-color: #434B5C;\n",
       "      box-shadow: 0px 1px 3px 1px rgba(0, 0, 0, 0.15);\n",
       "      filter: drop-shadow(0px 1px 2px rgba(0, 0, 0, 0.3));\n",
       "      fill: #FFFFFF;\n",
       "    }\n",
       "  </style>\n",
       "\n",
       "      <script>\n",
       "        const buttonEl =\n",
       "          document.querySelector('#df-cd542522-75b9-4445-a4c3-9733c5edb91b button.colab-df-convert');\n",
       "        buttonEl.style.display =\n",
       "          google.colab.kernel.accessAllowed ? 'block' : 'none';\n",
       "\n",
       "        async function convertToInteractive(key) {\n",
       "          const element = document.querySelector('#df-cd542522-75b9-4445-a4c3-9733c5edb91b');\n",
       "          const dataTable =\n",
       "            await google.colab.kernel.invokeFunction('convertToInteractive',\n",
       "                                                     [key], {});\n",
       "          if (!dataTable) return;\n",
       "\n",
       "          const docLinkHtml = 'Like what you see? Visit the ' +\n",
       "            '<a target=\"_blank\" href=https://colab.research.google.com/notebooks/data_table.ipynb>data table notebook</a>'\n",
       "            + ' to learn more about interactive tables.';\n",
       "          element.innerHTML = '';\n",
       "          dataTable['output_type'] = 'display_data';\n",
       "          await google.colab.output.renderOutput(dataTable, element);\n",
       "          const docLink = document.createElement('div');\n",
       "          docLink.innerHTML = docLinkHtml;\n",
       "          element.appendChild(docLink);\n",
       "        }\n",
       "      </script>\n",
       "    </div>\n",
       "  </div>\n",
       "  "
      ],
      "text/plain": [
       "       loss  accuracy  precision    recall       auc  val_loss  val_accuracy  \\\n",
       "0  0.432031  0.961550   0.369879  0.044649  0.713556  0.373828      0.970956   \n",
       "1  0.375212  0.972235   0.467808  0.044720  0.794013  0.373333      0.970956   \n",
       "2  0.370960  0.972160   0.582230  0.048492  0.808637  0.358263      0.970504   \n",
       "3  0.329031  0.971520   0.701260  0.299061  0.863296  0.277336      0.970956   \n",
       "4  0.261882  0.972235   0.768997  0.558062  0.916545  0.233243      0.970956   \n",
       "\n",
       "   val_precision  val_recall   val_auc  \n",
       "0       0.755776    0.032761  0.799636  \n",
       "1       0.000000    0.000000  0.822781  \n",
       "2       0.635892    0.263090  0.839659  \n",
       "3       0.800864    0.451073  0.912080  \n",
       "4       0.786105    0.637768  0.933802  "
      ]
     },
     "execution_count": 22,
     "metadata": {},
     "output_type": "execute_result"
    }
   ],
   "source": [
    "hist_df = pd.DataFrame(history.history)\n",
    "hist_df.head()"
   ]
  },
  {
   "cell_type": "code",
   "execution_count": 23,
   "id": "e9da4d53",
   "metadata": {
    "colab": {
     "base_uri": "https://localhost:8080/",
     "height": 430
    },
    "executionInfo": {
     "elapsed": 6,
     "status": "ok",
     "timestamp": 1680843554446,
     "user": {
      "displayName": "Glory Odeyemi",
      "userId": "04491820538436953732"
     },
     "user_tz": 240
    },
    "id": "e9da4d53",
    "outputId": "357ebf38-5250-4fcb-9289-1b8fc6d8315d"
   },
   "outputs": [
    {
     "data": {
      "image/png": "[encoded data removed]",
      "text/plain": [
       "<Figure size 640x480 with 1 Axes>"
      ]
     },
     "metadata": {},
     "output_type": "display_data"
    }
   ],
   "source": [
    "lstm.plot_accuracy(history)"
   ]
  },
  {
   "cell_type": "code",
   "execution_count": 24,
   "id": "uUzT_h9d4tVv",
   "metadata": {
    "colab": {
     "base_uri": "https://localhost:8080/",
     "height": 430
    },
    "executionInfo": {
     "elapsed": 501,
     "status": "ok",
     "timestamp": 1680843554942,
     "user": {
      "displayName": "Glory Odeyemi",
      "userId": "04491820538436953732"
     },
     "user_tz": 240
    },
    "id": "uUzT_h9d4tVv",
    "outputId": "58cc1633-da93-4921-f5a9-5a724b3d8673"
   },
   "outputs": [
    {
     "data": {
      "image/png": "[encoded data removed]",
      "text/plain": [
       "<Figure size 640x480 with 1 Axes>"
      ]
     },
     "metadata": {},
     "output_type": "display_data"
    }
   ],
   "source": [
    "lstm.plot_precision(history)"
   ]
  },
  {
   "cell_type": "code",
   "execution_count": 25,
   "id": "8n5AgfNj6k8P",
   "metadata": {
    "colab": {
     "base_uri": "https://localhost:8080/",
     "height": 430
    },
    "executionInfo": {
     "elapsed": 8,
     "status": "ok",
     "timestamp": 1680843554942,
     "user": {
      "displayName": "Glory Odeyemi",
      "userId": "04491820538436953732"
     },
     "user_tz": 240
    },
    "id": "8n5AgfNj6k8P",
    "outputId": "c601a165-409b-4002-ac37-a7775f268169"
   },
   "outputs": [
    {
     "data": {
      "image/png": "[encoded data removed]",
      "text/plain": [
       "<Figure size 640x480 with 1 Axes>"
      ]
     },
     "metadata": {},
     "output_type": "display_data"
    }
   ],
   "source": [
    "lstm.plot_recall(history)"
   ]
  },
  {
   "cell_type": "code",
   "execution_count": 26,
   "id": "YTuI_i-b6oXT",
   "metadata": {
    "colab": {
     "base_uri": "https://localhost:8080/",
     "height": 430
    },
    "executionInfo": {
     "elapsed": 7,
     "status": "ok",
     "timestamp": 1680843554942,
     "user": {
      "displayName": "Glory Odeyemi",
      "userId": "04491820538436953732"
     },
     "user_tz": 240
    },
    "id": "YTuI_i-b6oXT",
    "outputId": "30c7c2e7-1b47-4d11-95e4-f54e3ec05adb"
   },
   "outputs": [
    {
     "data": {
      "image/png": "[encoded data removed]",
      "text/plain": [
       "<Figure size 640x480 with 1 Axes>"
      ]
     },
     "metadata": {},
     "output_type": "display_data"
    }
   ],
   "source": [
    "lstm.plot_auc(history)"
   ]
  },
  {
   "cell_type": "code",
   "execution_count": 27,
   "id": "05a6a9fa",
   "metadata": {
    "colab": {
     "base_uri": "https://localhost:8080/"
    },
    "executionInfo": {
     "elapsed": 6550,
     "status": "ok",
     "timestamp": 1680843561486,
     "user": {
      "displayName": "Glory Odeyemi",
      "userId": "04491820538436953732"
     },
     "user_tz": 240
    },
    "id": "05a6a9fa",
    "outputId": "ad4fff23-7143-4a3e-d0dd-286e55363909"
   },
   "outputs": [
    {
     "name": "stdout",
     "output_type": "stream",
     "text": [
      "Results:\n",
      "--------\n",
      "Training accuracy: 97.22%\n",
      "\n",
      "Training loss: 18.92%\n",
      "\n",
      "Training precision: 82.56%\n",
      "\n",
      "Training recall: 73.01%\n",
      "\n",
      "Training auc: 95.72%\n",
      "\n",
      "---------------\n",
      "Validation accuracy: 97.10%\n",
      "\n",
      "Validation loss: 19.62%\n",
      "\n",
      "Validation precision: 81.56%\n",
      "\n",
      "Validation recall: 72.50%\n",
      "\n",
      "Validation auc: 95.28%\n",
      "\n"
     ]
    }
   ],
   "source": [
    "lstm.get_accuracy(model, val_pad, y_val, train_pad, y_train)"
   ]
  },
  {
   "cell_type": "code",
   "execution_count": 28,
   "id": "ab2654a5",
   "metadata": {
    "colab": {
     "base_uri": "https://localhost:8080/"
    },
    "executionInfo": {
     "elapsed": 19,
     "status": "ok",
     "timestamp": 1680843561486,
     "user": {
      "displayName": "Glory Odeyemi",
      "userId": "04491820538436953732"
     },
     "user_tz": 240
    },
    "id": "ab2654a5",
    "outputId": "19972257-b207-4463-9f9b-0ef3da1dd38e"
   },
   "outputs": [
    {
     "name": "stdout",
     "output_type": "stream",
     "text": [
      "Model saved!\n"
     ]
    }
   ],
   "source": [
    "lstm.save_model(model)"
   ]
  },
  {
   "cell_type": "code",
   "execution_count": 29,
   "id": "16b89a34",
   "metadata": {
    "colab": {
     "base_uri": "https://localhost:8080/"
    },
    "executionInfo": {
     "elapsed": 233,
     "status": "ok",
     "timestamp": 1680843561702,
     "user": {
      "displayName": "Glory Odeyemi",
      "userId": "04491820538436953732"
     },
     "user_tz": 240
    },
    "id": "16b89a34",
    "outputId": "36e83b7d-24e4-4763-dd74-eec31566d214"
   },
   "outputs": [
    {
     "name": "stdout",
     "output_type": "stream",
     "text": [
      "Model loaded!\n"
     ]
    }
   ],
   "source": [
    "model = lstm.load_model()"
   ]
  },
  {
   "cell_type": "code",
   "execution_count": 30,
   "id": "29663ba3",
   "metadata": {
    "colab": {
     "base_uri": "https://localhost:8080/"
    },
    "executionInfo": {
     "elapsed": 45301,
     "status": "ok",
     "timestamp": 1680843607002,
     "user": {
      "displayName": "Glory Odeyemi",
      "userId": "04491820538436953732"
     },
     "user_tz": 240
    },
    "id": "29663ba3",
    "outputId": "72d663fd-7e77-4e5f-95ce-79ca214845e7"
   },
   "outputs": [
    {
     "name": "stdout",
     "output_type": "stream",
     "text": [
      "4787/4787 [==============================] - 22s 5ms/step\n"
     ]
    }
   ],
   "source": [
    "# make predictions on test data\n",
    "col_id = test_data['id']\n",
    "com_text = test_data['comment_text']\n",
    "labels = ['toxic', 'severe_toxic', 'obscene', 'threat', 'insult', 'identity_hate']\n",
    "\n",
    "pred_result = lstm.make_predictions(model, test_pad, col_id, com_text, labels)"
   ]
  },
  {
   "cell_type": "code",
   "execution_count": 31,
   "id": "eb1571f4",
   "metadata": {
    "colab": {
     "base_uri": "https://localhost:8080/",
     "height": 206
    },
    "executionInfo": {
     "elapsed": 14,
     "status": "ok",
     "timestamp": 1680843607003,
     "user": {
      "displayName": "Glory Odeyemi",
      "userId": "04491820538436953732"
     },
     "user_tz": 240
    },
    "id": "eb1571f4",
    "outputId": "6e5a810b-2663-41e8-f375-cf568c45a3dd"
   },
   "outputs": [
    {
     "data": {
      "text/html": [
       "\n",
       "  <div id=\"df-17b6e56d-75eb-4a61-a066-dccfaf10d530\">\n",
       "    <div class=\"colab-df-container\">\n",
       "      <div>\n",
       "<style scoped>\n",
       "    .dataframe tbody tr th:only-of-type {\n",
       "        vertical-align: middle;\n",
       "    }\n",
       "\n",
       "    .dataframe tbody tr th {\n",
       "        vertical-align: top;\n",
       "    }\n",
       "\n",
       "    .dataframe thead th {\n",
       "        text-align: right;\n",
       "    }\n",
       "</style>\n",
       "<table border=\"1\" class=\"dataframe\">\n",
       "  <thead>\n",
       "    <tr style=\"text-align: right;\">\n",
       "      <th></th>\n",
       "      <th>id</th>\n",
       "      <th>comment_text</th>\n",
       "      <th>toxic</th>\n",
       "      <th>severe_toxic</th>\n",
       "      <th>obscene</th>\n",
       "      <th>threat</th>\n",
       "      <th>insult</th>\n",
       "      <th>identity_hate</th>\n",
       "    </tr>\n",
       "  </thead>\n",
       "  <tbody>\n",
       "    <tr>\n",
       "      <th>0</th>\n",
       "      <td>00001cee341fdb12</td>\n",
       "      <td>Yo bitch Ja Rule is more succesful then you'll...</td>\n",
       "      <td>0.974425</td>\n",
       "      <td>0.223066</td>\n",
       "      <td>0.818271</td>\n",
       "      <td>0.077563</td>\n",
       "      <td>0.664008</td>\n",
       "      <td>0.167834</td>\n",
       "    </tr>\n",
       "    <tr>\n",
       "      <th>1</th>\n",
       "      <td>0000247867823ef7</td>\n",
       "      <td>== From RfC == \\n\\n The title is fine as it is...</td>\n",
       "      <td>0.916282</td>\n",
       "      <td>0.016447</td>\n",
       "      <td>0.365729</td>\n",
       "      <td>0.014462</td>\n",
       "      <td>0.357596</td>\n",
       "      <td>0.043477</td>\n",
       "    </tr>\n",
       "    <tr>\n",
       "      <th>2</th>\n",
       "      <td>00013b17ad220c46</td>\n",
       "      <td>\" \\n\\n == Sources == \\n\\n * Zawe Ashton on Lap...</td>\n",
       "      <td>0.567431</td>\n",
       "      <td>0.004915</td>\n",
       "      <td>0.116225</td>\n",
       "      <td>0.010148</td>\n",
       "      <td>0.148147</td>\n",
       "      <td>0.021840</td>\n",
       "    </tr>\n",
       "    <tr>\n",
       "      <th>3</th>\n",
       "      <td>00017563c3f7919a</td>\n",
       "      <td>:If you have a look back at the source, the in...</td>\n",
       "      <td>0.355315</td>\n",
       "      <td>0.001327</td>\n",
       "      <td>0.047191</td>\n",
       "      <td>0.004461</td>\n",
       "      <td>0.051755</td>\n",
       "      <td>0.008920</td>\n",
       "    </tr>\n",
       "    <tr>\n",
       "      <th>4</th>\n",
       "      <td>00017695ad8997eb</td>\n",
       "      <td>I don't anonymously edit articles at all.</td>\n",
       "      <td>0.467266</td>\n",
       "      <td>0.002823</td>\n",
       "      <td>0.079366</td>\n",
       "      <td>0.007067</td>\n",
       "      <td>0.101923</td>\n",
       "      <td>0.014649</td>\n",
       "    </tr>\n",
       "  </tbody>\n",
       "</table>\n",
       "</div>\n",
       "      <button class=\"colab-df-convert\" onclick=\"convertToInteractive('df-17b6e56d-75eb-4a61-a066-dccfaf10d530')\"\n",
       "              title=\"Convert this dataframe to an interactive table.\"\n",
       "              style=\"display:none;\">\n",
       "        \n",
       "  <svg xmlns=\"http://www.w3.org/2000/svg\" height=\"24px\"viewBox=\"0 0 24 24\"\n",
       "       width=\"24px\">\n",
       "    <path d=\"M0 0h24v24H0V0z\" fill=\"none\"/>\n",
       "    <path d=\"M18.56 5.44l.94 2.06.94-2.06 2.06-.94-2.06-.94-.94-2.06-.94 2.06-2.06.94zm-11 1L8.5 8.5l.94-2.06 2.06-.94-2.06-.94L8.5 2.5l-.94 2.06-2.06.94zm10 10l.94 2.06.94-2.06 2.06-.94-2.06-.94-.94-2.06-.94 2.06-2.06.94z\"/><path d=\"M17.41 7.96l-1.37-1.37c-.4-.4-.92-.59-1.43-.59-.52 0-1.04.2-1.43.59L10.3 9.45l-7.72 7.72c-.78.78-.78 2.05 0 2.83L4 21.41c.39.39.9.59 1.41.59.51 0 1.02-.2 1.41-.59l7.78-7.78 2.81-2.81c.8-.78.8-2.07 0-2.86zM5.41 20L4 18.59l7.72-7.72 1.47 1.35L5.41 20z\"/>\n",
       "  </svg>\n",
       "      </button>\n",
       "      \n",
       "  <style>\n",
       "    .colab-df-container {\n",
       "      display:flex;\n",
       "      flex-wrap:wrap;\n",
       "      gap: 12px;\n",
       "    }\n",
       "\n",
       "    .colab-df-convert {\n",
       "      background-color: #E8F0FE;\n",
       "      border: none;\n",
       "      border-radius: 50%;\n",
       "      cursor: pointer;\n",
       "      display: none;\n",
       "      fill: #1967D2;\n",
       "      height: 32px;\n",
       "      padding: 0 0 0 0;\n",
       "      width: 32px;\n",
       "    }\n",
       "\n",
       "    .colab-df-convert:hover {\n",
       "      background-color: #E2EBFA;\n",
       "      box-shadow: 0px 1px 2px rgba(60, 64, 67, 0.3), 0px 1px 3px 1px rgba(60, 64, 67, 0.15);\n",
       "      fill: #174EA6;\n",
       "    }\n",
       "\n",
       "    [theme=dark] .colab-df-convert {\n",
       "      background-color: #3B4455;\n",
       "      fill: #D2E3FC;\n",
       "    }\n",
       "\n",
       "    [theme=dark] .colab-df-convert:hover {\n",
       "      background-color: #434B5C;\n",
       "      box-shadow: 0px 1px 3px 1px rgba(0, 0, 0, 0.15);\n",
       "      filter: drop-shadow(0px 1px 2px rgba(0, 0, 0, 0.3));\n",
       "      fill: #FFFFFF;\n",
       "    }\n",
       "  </style>\n",
       "\n",
       "      <script>\n",
       "        const buttonEl =\n",
       "          document.querySelector('#df-17b6e56d-75eb-4a61-a066-dccfaf10d530 button.colab-df-convert');\n",
       "        buttonEl.style.display =\n",
       "          google.colab.kernel.accessAllowed ? 'block' : 'none';\n",
       "\n",
       "        async function convertToInteractive(key) {\n",
       "          const element = document.querySelector('#df-17b6e56d-75eb-4a61-a066-dccfaf10d530');\n",
       "          const dataTable =\n",
       "            await google.colab.kernel.invokeFunction('convertToInteractive',\n",
       "                                                     [key], {});\n",
       "          if (!dataTable) return;\n",
       "\n",
       "          const docLinkHtml = 'Like what you see? Visit the ' +\n",
       "            '<a target=\"_blank\" href=https://colab.research.google.com/notebooks/data_table.ipynb>data table notebook</a>'\n",
       "            + ' to learn more about interactive tables.';\n",
       "          element.innerHTML = '';\n",
       "          dataTable['output_type'] = 'display_data';\n",
       "          await google.colab.output.renderOutput(dataTable, element);\n",
       "          const docLink = document.createElement('div');\n",
       "          docLink.innerHTML = docLinkHtml;\n",
       "          element.appendChild(docLink);\n",
       "        }\n",
       "      </script>\n",
       "    </div>\n",
       "  </div>\n",
       "  "
      ],
      "text/plain": [
       "                 id                                       comment_text  \\\n",
       "0  00001cee341fdb12  Yo bitch Ja Rule is more succesful then you'll...   \n",
       "1  0000247867823ef7  == From RfC == \\n\\n The title is fine as it is...   \n",
       "2  00013b17ad220c46  \" \\n\\n == Sources == \\n\\n * Zawe Ashton on Lap...   \n",
       "3  00017563c3f7919a  :If you have a look back at the source, the in...   \n",
       "4  00017695ad8997eb          I don't anonymously edit articles at all.   \n",
       "\n",
       "      toxic  severe_toxic   obscene    threat    insult  identity_hate  \n",
       "0  0.974425      0.223066  0.818271  0.077563  0.664008       0.167834  \n",
       "1  0.916282      0.016447  0.365729  0.014462  0.357596       0.043477  \n",
       "2  0.567431      0.004915  0.116225  0.010148  0.148147       0.021840  \n",
       "3  0.355315      0.001327  0.047191  0.004461  0.051755       0.008920  \n",
       "4  0.467266      0.002823  0.079366  0.007067  0.101923       0.014649  "
      ]
     },
     "execution_count": 31,
     "metadata": {},
     "output_type": "execute_result"
    }
   ],
   "source": [
    "pred_result.head()"
   ]
  },
  {
   "cell_type": "code",
   "execution_count": 33,
   "id": "LBWsWgomCRMP",
   "metadata": {
    "colab": {
     "base_uri": "https://localhost:8080/"
    },
    "executionInfo": {
     "elapsed": 5,
     "status": "ok",
     "timestamp": 1680843607003,
     "user": {
      "displayName": "Glory Odeyemi",
      "userId": "04491820538436953732"
     },
     "user_tz": 240
    },
    "id": "LBWsWgomCRMP",
    "outputId": "dd70ca17-54a9-41ef-819f-8238f61a9790"
   },
   "outputs": [
    {
     "name": "stdout",
     "output_type": "stream",
     "text": [
      "Sample comment:\n",
      "----------------\n",
      "== Wikipedia:Articles_for_deletion/Vedic_mathematics_(book) == \n",
      "\n",
      " Please participate in the debate.\n",
      "\n",
      "Predicted labels:\n",
      "--------------------\n",
      "          toxic  severe_toxic   obscene    threat    insult  identity_hate\n",
      "14000  0.063722      0.000287  0.011583  0.002045  0.014612       0.003071\n"
     ]
    }
   ],
   "source": [
    "text, label = generate_random(pred_result, 'comment_text', 50)\n",
    "print(f\"Sample comment:\\n----------------\\n{text}\")\n",
    "print()\n",
    "print(f\"Predicted labels:\\n--------------------\\n{label}\")"
   ]
  },
  {
   "cell_type": "code",
   "execution_count": 34,
   "id": "afMkH7K4DtNF",
   "metadata": {
    "colab": {
     "base_uri": "https://localhost:8080/"
    },
    "executionInfo": {
     "elapsed": 4,
     "status": "ok",
     "timestamp": 1680843607003,
     "user": {
      "displayName": "Glory Odeyemi",
      "userId": "04491820538436953732"
     },
     "user_tz": 240
    },
    "id": "afMkH7K4DtNF",
    "outputId": "60b4ef86-17b9-4792-b736-ab9794976c06"
   },
   "outputs": [
    {
     "name": "stdout",
     "output_type": "stream",
     "text": [
      "Sample comment:\n",
      "----------------\n",
      "this is a load of BULLSHIT\n",
      "\n",
      "Predicted labels:\n",
      "--------------------\n",
      "         toxic  severe_toxic   obscene    threat    insult  identity_hate\n",
      "5994  0.974642      0.057042  0.667946  0.024557  0.566902       0.083399\n"
     ]
    }
   ],
   "source": [
    "text, label = generate_random(pred_result, 'comment_text', 3)\n",
    "print(f\"Sample comment:\\n----------------\\n{text}\")\n",
    "print()\n",
    "print(f\"Predicted labels:\\n--------------------\\n{label}\")"
   ]
  }
 ],
 "metadata": {
  "accelerator": "GPU",
  "colab": {
   "provenance": [
    {
     "file_id": "1zx-Oma8hFRGApY12W-nub-mTfPvC8Vl8",
     "timestamp": 1680732446813
    }
   ]
  },
  "gpuClass": "standard",
  "kernelspec": {
   "display_name": "Python 3 (ipykernel)",
   "language": "python",
   "name": "python3"
  },
  "language_info": {
   "codemirror_mode": {
    "name": "ipython",
    "version": 3
   },
   "file_extension": ".py",
   "mimetype": "text/x-python",
   "name": "python",
   "nbconvert_exporter": "python",
   "pygments_lexer": "ipython3",
   "version": "3.9.13"
  }
 },
 "nbformat": 4,
 "nbformat_minor": 5
}
